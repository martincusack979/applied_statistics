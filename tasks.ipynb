{
 "cells": [
  {
   "cell_type": "markdown",
   "metadata": {},
   "source": [
    "# Tasks\n",
    "\n",
    "**Applied Statistics**\n",
    "\n",
    "Martin Cusack\n",
    "\n",
    "Student I.D: G00239124\n",
    "\n",
    "***"
   ]
  },
  {
   "cell_type": "markdown",
   "metadata": {},
   "source": [
    "### Task 1: Permutations and Combinations\n",
    "\n",
    "***Task Description***:  Suppose we alter the Lady Tasting Tea experiment to involve twelve cups of tea. Six have the milk in first and the other six having tea in first. A person claims they have the special power of being able to tell whether the tea or the milk went into a cup first upon tasting it. You agree to accept their claim if they can tell which of the six cups in your experiment had the milk in first.\n",
    "\n",
    "Calculate, using Python, the probability that they select the correct six cups. Here you should assume that they have no special powers in figuring it out, that they are just guessing. Remember to show and justify your workings in code and MarkDown cells.\n",
    "\n",
    "Suppose, now, you are willing to accept one error. Once they select the six cups they think had the milk in first, you will give them the benefit of the doubt should they have selected at least five of the correct cups. Calculate the probability, assuming they have no special powers, that the person makes at most one error.\n",
    "\n",
    "Would you accept two errors? Explain."
   ]
  },
  {
   "cell_type": "markdown",
   "metadata": {},
   "source": [
    "This question, based on Ronald Fisher's famous Lady Tasting Tea experiment, "
   ]
  },
  {
   "cell_type": "code",
   "execution_count": 2,
   "metadata": {},
   "outputs": [
    {
     "name": "stdout",
     "output_type": "stream",
     "text": [
      "0.0010822510822510823\n"
     ]
    }
   ],
   "source": [
    "from math import comb \n",
    "\n",
    "# the math.comb() method returns the number of ways picking k unordered outcomes from n possibilities, without repetition.\n",
    "# https://www.w3schools.com/python/ref_math_comb.asp\n",
    "\n",
    "totalCups = 12 \n",
    "milkFirst = 6   \n",
    "cupsSelected = 6   \n",
    "correctlyChosen = 6 \n",
    "\n",
    "# Calculate the probability of selecting six cups correctly\n",
    "\n",
    "probability = (comb(milkFirst, correctlyChosen ) * comb(totalCups - milkFirst, cupsSelected - correctlyChosen)) / comb(totalCups, cupsSelected)\n",
    "print (probability)"
   ]
  }
 ],
 "metadata": {
  "kernelspec": {
   "display_name": "base",
   "language": "python",
   "name": "python3"
  },
  "language_info": {
   "codemirror_mode": {
    "name": "ipython",
    "version": 3
   },
   "file_extension": ".py",
   "mimetype": "text/x-python",
   "name": "python",
   "nbconvert_exporter": "python",
   "pygments_lexer": "ipython3",
   "version": "3.9.18"
  }
 },
 "nbformat": 4,
 "nbformat_minor": 2
}
