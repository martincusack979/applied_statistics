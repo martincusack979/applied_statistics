{
 "cells": [
  {
   "cell_type": "markdown",
   "metadata": {},
   "source": [
    "# Tasks\n",
    "\n",
    "**Applied Statistics**\n",
    "\n",
    "Martin Cusack\n",
    "\n",
    "Student I.D: G00239124\n",
    "\n",
    "***"
   ]
  },
  {
   "cell_type": "markdown",
   "metadata": {},
   "source": [
    "## Introduction \n",
    "\n",
    "This Jupyter notebook contains all the work undertaken in completing the tasks for the Applied Statistics module."
   ]
  },
  {
   "cell_type": "markdown",
   "metadata": {},
   "source": [
    "### Task 1: Permutations and Combinations\n",
    "\n",
    "***Task Description***:  Suppose we alter the Lady Tasting Tea experiment to involve twelve cups of tea. Six have the milk in first and the other six having tea in first. A person claims they have the special power of being able to tell whether the tea or the milk went into a cup first upon tasting it. You agree to accept their claim if they can tell which of the six cups in your experiment had the milk in first.\n",
    "\n",
    "Calculate, using Python, the probability that they select the correct six cups. Here you should assume that they have no special powers in figuring it out, that they are just guessing. Remember to show and justify your workings in code and MarkDown cells.\n",
    "\n",
    "Suppose, now, you are willing to accept one error. Once they select the six cups they think had the milk in first, you will give them the benefit of the doubt should they have selected at least five of the correct cups. Calculate the probability, assuming they have no special powers, that the person makes at most one error.\n",
    "\n",
    "Would you accept two errors? Explain.\n",
    "***"
   ]
  },
  {
   "cell_type": "markdown",
   "metadata": {},
   "source": [
    "***Task Solution:*** This task, based on Ronald Fisher's famous Lady Tasting Tea experiment, requires us firstly to figure out how many different ways there are of selecting 6 choices from a group of 12 (i.e. the number of different combinations of size 6) and then to calculate the probability of someone correctly identifying the 6 cups which had milk in first from a group of 12 cups. We can do this by importing and using Python's math.comb () method (also known as the choose function).\n",
    "\n",
    "Firstly, in the below cell, I will import all the packages required to complete the tasks for this module."
   ]
  },
  {
   "cell_type": "code",
   "execution_count": 1,
   "metadata": {},
   "outputs": [],
   "source": [
    "# Math functions from Python standard library.\n",
    "import math\n",
    "\n",
    "# Iterator functions from Python standard library\n",
    "import itertools\n",
    "\n",
    "# Random selections\n",
    "import random\n",
    "\n",
    "# Numerical structures and operations\n",
    "import numpy as np\n",
    "\n",
    "# import matplotlib for plotting\n",
    "import matplotlib.pyplot as plt\n",
    "\n",
    "# import scipy.stats for statistics.\n",
    "import scipy.stats as ss\n",
    "\n",
    "from scipy.stats import norm\n",
    "\n",
    "# import statsmodels for statistical modelling\n",
    "import statsmodels as sm\n",
    "\n",
    "# import pandas\n",
    "import pandas as pd\n",
    "\n",
    "# seaborn\n",
    "import seaborn as sns"
   ]
  },
  {
   "cell_type": "markdown",
   "metadata": {},
   "source": [
    "Having imported the math module from Python, we now set out how many cups of tea there are in total, and then how many cups have milk in first and how many cups have tea in first."
   ]
  },
  {
   "cell_type": "code",
   "execution_count": 2,
   "metadata": {},
   "outputs": [],
   "source": [
    "# number of cups of tea in total\n",
    "no_cups = 12\n",
    "\n",
    "# number of cups of tea with milk in first\n",
    "\n",
    "no_cups_milk_first = 6\n",
    "\n",
    "# number of cups of tea with tea in first\n",
    "\n",
    "no_cups_tea_first = 6\n"
   ]
  },
  {
   "cell_type": "markdown",
   "metadata": {},
   "source": [
    "We then use the math.comb() method to calculate how many different ways exist of selecting six cups from 12. \"the math.comb() method returns the number of ways picking k unordered outcomes from n possibilities, without repetition, also known as combinations.\"  *\n",
    "\n",
    "[1] [math.comb](www.w3schools.com/python/ref_math_comb.asp)"
   ]
  },
  {
   "cell_type": "code",
   "execution_count": 3,
   "metadata": {},
   "outputs": [
    {
     "data": {
      "text/plain": [
       "924"
      ]
     },
     "execution_count": 3,
     "metadata": {},
     "output_type": "execute_result"
    }
   ],
   "source": [
    "# the math.comb() method returns the number of ways picking k unordered outcomes from n possibilities, \n",
    "# without repetition(https://www.w3schools.com/python/ref_math_comb.asp)\n",
    "\n",
    "from math import comb \n",
    "\n",
    "# number of ways of selecting 6 cups from 12 ( i.e. 12*11*10*9*8*7 / 6*5*4*3*2*1)\n",
    "ways = math.comb(no_cups, no_cups_milk_first)\n",
    "# show\n",
    "ways"
   ]
  },
  {
   "cell_type": "markdown",
   "metadata": {},
   "source": [
    "From the above calculation we can see that there are 924 possible combinations, meaning there is a one in 924 chance of randomly selecting the correct 6 cups. The probability of this happening is calculated below."
   ]
  },
  {
   "cell_type": "code",
   "execution_count": 4,
   "metadata": {},
   "outputs": [
    {
     "data": {
      "text/plain": [
       "0.0010822510822510823"
      ]
     },
     "execution_count": 4,
     "metadata": {},
     "output_type": "execute_result"
    }
   ],
   "source": [
    "# The probability of randomly selecting the six correct cups.\n",
    "1 / 924"
   ]
  },
  {
   "cell_type": "markdown",
   "metadata": {},
   "source": [
    "As we can see from the above, it is highly unlikely that someone could randomly select the correct six cups without some form of special ability.  Next, we need to calculate the probability of correctly selecting at least 5 out of 6 cups (i.e. making one error).  To do this, we can use numpy to calculate the number of times five choices can overlap with the correct six choices. Firstly, we give each cup a label, and then by displaying the number of different ways of selecting \"no_cups_milk_first\" we can determine the number of overlaps."
   ]
  },
  {
   "cell_type": "code",
   "execution_count": 5,
   "metadata": {},
   "outputs": [
    {
     "name": "stdout",
     "output_type": "stream",
     "text": [
      "[0, 1, 2, 3, 4, 5, 6, 7, 8, 9, 10, 11]\n"
     ]
    }
   ],
   "source": [
    "# Show cup labels in list\n",
    "labels = list(range(no_cups))\n",
    "\n",
    "print(labels)"
   ]
  },
  {
   "cell_type": "code",
   "execution_count": 6,
   "metadata": {},
   "outputs": [
    {
     "name": "stdout",
     "output_type": "stream",
     "text": [
      "[(0, 1, 2, 3, 4, 5), (0, 1, 2, 3, 4, 6), (0, 1, 2, 3, 4, 7), (0, 1, 2, 3, 4, 8), (0, 1, 2, 3, 4, 9), (0, 1, 2, 3, 4, 10), (0, 1, 2, 3, 4, 11), (0, 1, 2, 3, 5, 6), (0, 1, 2, 3, 5, 7), (0, 1, 2, 3, 5, 8), (0, 1, 2, 3, 5, 9), (0, 1, 2, 3, 5, 10), (0, 1, 2, 3, 5, 11), (0, 1, 2, 3, 6, 7), (0, 1, 2, 3, 6, 8), (0, 1, 2, 3, 6, 9), (0, 1, 2, 3, 6, 10), (0, 1, 2, 3, 6, 11), (0, 1, 2, 3, 7, 8), (0, 1, 2, 3, 7, 9), (0, 1, 2, 3, 7, 10), (0, 1, 2, 3, 7, 11), (0, 1, 2, 3, 8, 9), (0, 1, 2, 3, 8, 10), (0, 1, 2, 3, 8, 11), (0, 1, 2, 3, 9, 10), (0, 1, 2, 3, 9, 11), (0, 1, 2, 3, 10, 11), (0, 1, 2, 4, 5, 6), (0, 1, 2, 4, 5, 7), (0, 1, 2, 4, 5, 8), (0, 1, 2, 4, 5, 9), (0, 1, 2, 4, 5, 10), (0, 1, 2, 4, 5, 11), (0, 1, 2, 4, 6, 7), (0, 1, 2, 4, 6, 8), (0, 1, 2, 4, 6, 9), (0, 1, 2, 4, 6, 10), (0, 1, 2, 4, 6, 11), (0, 1, 2, 4, 7, 8), (0, 1, 2, 4, 7, 9), (0, 1, 2, 4, 7, 10), (0, 1, 2, 4, 7, 11), (0, 1, 2, 4, 8, 9), (0, 1, 2, 4, 8, 10), (0, 1, 2, 4, 8, 11), (0, 1, 2, 4, 9, 10), (0, 1, 2, 4, 9, 11), (0, 1, 2, 4, 10, 11), (0, 1, 2, 5, 6, 7), (0, 1, 2, 5, 6, 8), (0, 1, 2, 5, 6, 9), (0, 1, 2, 5, 6, 10), (0, 1, 2, 5, 6, 11), (0, 1, 2, 5, 7, 8), (0, 1, 2, 5, 7, 9), (0, 1, 2, 5, 7, 10), (0, 1, 2, 5, 7, 11), (0, 1, 2, 5, 8, 9), (0, 1, 2, 5, 8, 10), (0, 1, 2, 5, 8, 11), (0, 1, 2, 5, 9, 10), (0, 1, 2, 5, 9, 11), (0, 1, 2, 5, 10, 11), (0, 1, 2, 6, 7, 8), (0, 1, 2, 6, 7, 9), (0, 1, 2, 6, 7, 10), (0, 1, 2, 6, 7, 11), (0, 1, 2, 6, 8, 9), (0, 1, 2, 6, 8, 10), (0, 1, 2, 6, 8, 11), (0, 1, 2, 6, 9, 10), (0, 1, 2, 6, 9, 11), (0, 1, 2, 6, 10, 11), (0, 1, 2, 7, 8, 9), (0, 1, 2, 7, 8, 10), (0, 1, 2, 7, 8, 11), (0, 1, 2, 7, 9, 10), (0, 1, 2, 7, 9, 11), (0, 1, 2, 7, 10, 11), (0, 1, 2, 8, 9, 10), (0, 1, 2, 8, 9, 11), (0, 1, 2, 8, 10, 11), (0, 1, 2, 9, 10, 11), (0, 1, 3, 4, 5, 6), (0, 1, 3, 4, 5, 7), (0, 1, 3, 4, 5, 8), (0, 1, 3, 4, 5, 9), (0, 1, 3, 4, 5, 10), (0, 1, 3, 4, 5, 11), (0, 1, 3, 4, 6, 7), (0, 1, 3, 4, 6, 8), (0, 1, 3, 4, 6, 9), (0, 1, 3, 4, 6, 10), (0, 1, 3, 4, 6, 11), (0, 1, 3, 4, 7, 8), (0, 1, 3, 4, 7, 9), (0, 1, 3, 4, 7, 10), (0, 1, 3, 4, 7, 11), (0, 1, 3, 4, 8, 9), (0, 1, 3, 4, 8, 10), (0, 1, 3, 4, 8, 11), (0, 1, 3, 4, 9, 10), (0, 1, 3, 4, 9, 11), (0, 1, 3, 4, 10, 11), (0, 1, 3, 5, 6, 7), (0, 1, 3, 5, 6, 8), (0, 1, 3, 5, 6, 9), (0, 1, 3, 5, 6, 10), (0, 1, 3, 5, 6, 11), (0, 1, 3, 5, 7, 8), (0, 1, 3, 5, 7, 9), (0, 1, 3, 5, 7, 10), (0, 1, 3, 5, 7, 11), (0, 1, 3, 5, 8, 9), (0, 1, 3, 5, 8, 10), (0, 1, 3, 5, 8, 11), (0, 1, 3, 5, 9, 10), (0, 1, 3, 5, 9, 11), (0, 1, 3, 5, 10, 11), (0, 1, 3, 6, 7, 8), (0, 1, 3, 6, 7, 9), (0, 1, 3, 6, 7, 10), (0, 1, 3, 6, 7, 11), (0, 1, 3, 6, 8, 9), (0, 1, 3, 6, 8, 10), (0, 1, 3, 6, 8, 11), (0, 1, 3, 6, 9, 10), (0, 1, 3, 6, 9, 11), (0, 1, 3, 6, 10, 11), (0, 1, 3, 7, 8, 9), (0, 1, 3, 7, 8, 10), (0, 1, 3, 7, 8, 11), (0, 1, 3, 7, 9, 10), (0, 1, 3, 7, 9, 11), (0, 1, 3, 7, 10, 11), (0, 1, 3, 8, 9, 10), (0, 1, 3, 8, 9, 11), (0, 1, 3, 8, 10, 11), (0, 1, 3, 9, 10, 11), (0, 1, 4, 5, 6, 7), (0, 1, 4, 5, 6, 8), (0, 1, 4, 5, 6, 9), (0, 1, 4, 5, 6, 10), (0, 1, 4, 5, 6, 11), (0, 1, 4, 5, 7, 8), (0, 1, 4, 5, 7, 9), (0, 1, 4, 5, 7, 10), (0, 1, 4, 5, 7, 11), (0, 1, 4, 5, 8, 9), (0, 1, 4, 5, 8, 10), (0, 1, 4, 5, 8, 11), (0, 1, 4, 5, 9, 10), (0, 1, 4, 5, 9, 11), (0, 1, 4, 5, 10, 11), (0, 1, 4, 6, 7, 8), (0, 1, 4, 6, 7, 9), (0, 1, 4, 6, 7, 10), (0, 1, 4, 6, 7, 11), (0, 1, 4, 6, 8, 9), (0, 1, 4, 6, 8, 10), (0, 1, 4, 6, 8, 11), (0, 1, 4, 6, 9, 10), (0, 1, 4, 6, 9, 11), (0, 1, 4, 6, 10, 11), (0, 1, 4, 7, 8, 9), (0, 1, 4, 7, 8, 10), (0, 1, 4, 7, 8, 11), (0, 1, 4, 7, 9, 10), (0, 1, 4, 7, 9, 11), (0, 1, 4, 7, 10, 11), (0, 1, 4, 8, 9, 10), (0, 1, 4, 8, 9, 11), (0, 1, 4, 8, 10, 11), (0, 1, 4, 9, 10, 11), (0, 1, 5, 6, 7, 8), (0, 1, 5, 6, 7, 9), (0, 1, 5, 6, 7, 10), (0, 1, 5, 6, 7, 11), (0, 1, 5, 6, 8, 9), (0, 1, 5, 6, 8, 10), (0, 1, 5, 6, 8, 11), (0, 1, 5, 6, 9, 10), (0, 1, 5, 6, 9, 11), (0, 1, 5, 6, 10, 11), (0, 1, 5, 7, 8, 9), (0, 1, 5, 7, 8, 10), (0, 1, 5, 7, 8, 11), (0, 1, 5, 7, 9, 10), (0, 1, 5, 7, 9, 11), (0, 1, 5, 7, 10, 11), (0, 1, 5, 8, 9, 10), (0, 1, 5, 8, 9, 11), (0, 1, 5, 8, 10, 11), (0, 1, 5, 9, 10, 11), (0, 1, 6, 7, 8, 9), (0, 1, 6, 7, 8, 10), (0, 1, 6, 7, 8, 11), (0, 1, 6, 7, 9, 10), (0, 1, 6, 7, 9, 11), (0, 1, 6, 7, 10, 11), (0, 1, 6, 8, 9, 10), (0, 1, 6, 8, 9, 11), (0, 1, 6, 8, 10, 11), (0, 1, 6, 9, 10, 11), (0, 1, 7, 8, 9, 10), (0, 1, 7, 8, 9, 11), (0, 1, 7, 8, 10, 11), (0, 1, 7, 9, 10, 11), (0, 1, 8, 9, 10, 11), (0, 2, 3, 4, 5, 6), (0, 2, 3, 4, 5, 7), (0, 2, 3, 4, 5, 8), (0, 2, 3, 4, 5, 9), (0, 2, 3, 4, 5, 10), (0, 2, 3, 4, 5, 11), (0, 2, 3, 4, 6, 7), (0, 2, 3, 4, 6, 8), (0, 2, 3, 4, 6, 9), (0, 2, 3, 4, 6, 10), (0, 2, 3, 4, 6, 11), (0, 2, 3, 4, 7, 8), (0, 2, 3, 4, 7, 9), (0, 2, 3, 4, 7, 10), (0, 2, 3, 4, 7, 11), (0, 2, 3, 4, 8, 9), (0, 2, 3, 4, 8, 10), (0, 2, 3, 4, 8, 11), (0, 2, 3, 4, 9, 10), (0, 2, 3, 4, 9, 11), (0, 2, 3, 4, 10, 11), (0, 2, 3, 5, 6, 7), (0, 2, 3, 5, 6, 8), (0, 2, 3, 5, 6, 9), (0, 2, 3, 5, 6, 10), (0, 2, 3, 5, 6, 11), (0, 2, 3, 5, 7, 8), (0, 2, 3, 5, 7, 9), (0, 2, 3, 5, 7, 10), (0, 2, 3, 5, 7, 11), (0, 2, 3, 5, 8, 9), (0, 2, 3, 5, 8, 10), (0, 2, 3, 5, 8, 11), (0, 2, 3, 5, 9, 10), (0, 2, 3, 5, 9, 11), (0, 2, 3, 5, 10, 11), (0, 2, 3, 6, 7, 8), (0, 2, 3, 6, 7, 9), (0, 2, 3, 6, 7, 10), (0, 2, 3, 6, 7, 11), (0, 2, 3, 6, 8, 9), (0, 2, 3, 6, 8, 10), (0, 2, 3, 6, 8, 11), (0, 2, 3, 6, 9, 10), (0, 2, 3, 6, 9, 11), (0, 2, 3, 6, 10, 11), (0, 2, 3, 7, 8, 9), (0, 2, 3, 7, 8, 10), (0, 2, 3, 7, 8, 11), (0, 2, 3, 7, 9, 10), (0, 2, 3, 7, 9, 11), (0, 2, 3, 7, 10, 11), (0, 2, 3, 8, 9, 10), (0, 2, 3, 8, 9, 11), (0, 2, 3, 8, 10, 11), (0, 2, 3, 9, 10, 11), (0, 2, 4, 5, 6, 7), (0, 2, 4, 5, 6, 8), (0, 2, 4, 5, 6, 9), (0, 2, 4, 5, 6, 10), (0, 2, 4, 5, 6, 11), (0, 2, 4, 5, 7, 8), (0, 2, 4, 5, 7, 9), (0, 2, 4, 5, 7, 10), (0, 2, 4, 5, 7, 11), (0, 2, 4, 5, 8, 9), (0, 2, 4, 5, 8, 10), (0, 2, 4, 5, 8, 11), (0, 2, 4, 5, 9, 10), (0, 2, 4, 5, 9, 11), (0, 2, 4, 5, 10, 11), (0, 2, 4, 6, 7, 8), (0, 2, 4, 6, 7, 9), (0, 2, 4, 6, 7, 10), (0, 2, 4, 6, 7, 11), (0, 2, 4, 6, 8, 9), (0, 2, 4, 6, 8, 10), (0, 2, 4, 6, 8, 11), (0, 2, 4, 6, 9, 10), (0, 2, 4, 6, 9, 11), (0, 2, 4, 6, 10, 11), (0, 2, 4, 7, 8, 9), (0, 2, 4, 7, 8, 10), (0, 2, 4, 7, 8, 11), (0, 2, 4, 7, 9, 10), (0, 2, 4, 7, 9, 11), (0, 2, 4, 7, 10, 11), (0, 2, 4, 8, 9, 10), (0, 2, 4, 8, 9, 11), (0, 2, 4, 8, 10, 11), (0, 2, 4, 9, 10, 11), (0, 2, 5, 6, 7, 8), (0, 2, 5, 6, 7, 9), (0, 2, 5, 6, 7, 10), (0, 2, 5, 6, 7, 11), (0, 2, 5, 6, 8, 9), (0, 2, 5, 6, 8, 10), (0, 2, 5, 6, 8, 11), (0, 2, 5, 6, 9, 10), (0, 2, 5, 6, 9, 11), (0, 2, 5, 6, 10, 11), (0, 2, 5, 7, 8, 9), (0, 2, 5, 7, 8, 10), (0, 2, 5, 7, 8, 11), (0, 2, 5, 7, 9, 10), (0, 2, 5, 7, 9, 11), (0, 2, 5, 7, 10, 11), (0, 2, 5, 8, 9, 10), (0, 2, 5, 8, 9, 11), (0, 2, 5, 8, 10, 11), (0, 2, 5, 9, 10, 11), (0, 2, 6, 7, 8, 9), (0, 2, 6, 7, 8, 10), (0, 2, 6, 7, 8, 11), (0, 2, 6, 7, 9, 10), (0, 2, 6, 7, 9, 11), (0, 2, 6, 7, 10, 11), (0, 2, 6, 8, 9, 10), (0, 2, 6, 8, 9, 11), (0, 2, 6, 8, 10, 11), (0, 2, 6, 9, 10, 11), (0, 2, 7, 8, 9, 10), (0, 2, 7, 8, 9, 11), (0, 2, 7, 8, 10, 11), (0, 2, 7, 9, 10, 11), (0, 2, 8, 9, 10, 11), (0, 3, 4, 5, 6, 7), (0, 3, 4, 5, 6, 8), (0, 3, 4, 5, 6, 9), (0, 3, 4, 5, 6, 10), (0, 3, 4, 5, 6, 11), (0, 3, 4, 5, 7, 8), (0, 3, 4, 5, 7, 9), (0, 3, 4, 5, 7, 10), (0, 3, 4, 5, 7, 11), (0, 3, 4, 5, 8, 9), (0, 3, 4, 5, 8, 10), (0, 3, 4, 5, 8, 11), (0, 3, 4, 5, 9, 10), (0, 3, 4, 5, 9, 11), (0, 3, 4, 5, 10, 11), (0, 3, 4, 6, 7, 8), (0, 3, 4, 6, 7, 9), (0, 3, 4, 6, 7, 10), (0, 3, 4, 6, 7, 11), (0, 3, 4, 6, 8, 9), (0, 3, 4, 6, 8, 10), (0, 3, 4, 6, 8, 11), (0, 3, 4, 6, 9, 10), (0, 3, 4, 6, 9, 11), (0, 3, 4, 6, 10, 11), (0, 3, 4, 7, 8, 9), (0, 3, 4, 7, 8, 10), (0, 3, 4, 7, 8, 11), (0, 3, 4, 7, 9, 10), (0, 3, 4, 7, 9, 11), (0, 3, 4, 7, 10, 11), (0, 3, 4, 8, 9, 10), (0, 3, 4, 8, 9, 11), (0, 3, 4, 8, 10, 11), (0, 3, 4, 9, 10, 11), (0, 3, 5, 6, 7, 8), (0, 3, 5, 6, 7, 9), (0, 3, 5, 6, 7, 10), (0, 3, 5, 6, 7, 11), (0, 3, 5, 6, 8, 9), (0, 3, 5, 6, 8, 10), (0, 3, 5, 6, 8, 11), (0, 3, 5, 6, 9, 10), (0, 3, 5, 6, 9, 11), (0, 3, 5, 6, 10, 11), (0, 3, 5, 7, 8, 9), (0, 3, 5, 7, 8, 10), (0, 3, 5, 7, 8, 11), (0, 3, 5, 7, 9, 10), (0, 3, 5, 7, 9, 11), (0, 3, 5, 7, 10, 11), (0, 3, 5, 8, 9, 10), (0, 3, 5, 8, 9, 11), (0, 3, 5, 8, 10, 11), (0, 3, 5, 9, 10, 11), (0, 3, 6, 7, 8, 9), (0, 3, 6, 7, 8, 10), (0, 3, 6, 7, 8, 11), (0, 3, 6, 7, 9, 10), (0, 3, 6, 7, 9, 11), (0, 3, 6, 7, 10, 11), (0, 3, 6, 8, 9, 10), (0, 3, 6, 8, 9, 11), (0, 3, 6, 8, 10, 11), (0, 3, 6, 9, 10, 11), (0, 3, 7, 8, 9, 10), (0, 3, 7, 8, 9, 11), (0, 3, 7, 8, 10, 11), (0, 3, 7, 9, 10, 11), (0, 3, 8, 9, 10, 11), (0, 4, 5, 6, 7, 8), (0, 4, 5, 6, 7, 9), (0, 4, 5, 6, 7, 10), (0, 4, 5, 6, 7, 11), (0, 4, 5, 6, 8, 9), (0, 4, 5, 6, 8, 10), (0, 4, 5, 6, 8, 11), (0, 4, 5, 6, 9, 10), (0, 4, 5, 6, 9, 11), (0, 4, 5, 6, 10, 11), (0, 4, 5, 7, 8, 9), (0, 4, 5, 7, 8, 10), (0, 4, 5, 7, 8, 11), (0, 4, 5, 7, 9, 10), (0, 4, 5, 7, 9, 11), (0, 4, 5, 7, 10, 11), (0, 4, 5, 8, 9, 10), (0, 4, 5, 8, 9, 11), (0, 4, 5, 8, 10, 11), (0, 4, 5, 9, 10, 11), (0, 4, 6, 7, 8, 9), (0, 4, 6, 7, 8, 10), (0, 4, 6, 7, 8, 11), (0, 4, 6, 7, 9, 10), (0, 4, 6, 7, 9, 11), (0, 4, 6, 7, 10, 11), (0, 4, 6, 8, 9, 10), (0, 4, 6, 8, 9, 11), (0, 4, 6, 8, 10, 11), (0, 4, 6, 9, 10, 11), (0, 4, 7, 8, 9, 10), (0, 4, 7, 8, 9, 11), (0, 4, 7, 8, 10, 11), (0, 4, 7, 9, 10, 11), (0, 4, 8, 9, 10, 11), (0, 5, 6, 7, 8, 9), (0, 5, 6, 7, 8, 10), (0, 5, 6, 7, 8, 11), (0, 5, 6, 7, 9, 10), (0, 5, 6, 7, 9, 11), (0, 5, 6, 7, 10, 11), (0, 5, 6, 8, 9, 10), (0, 5, 6, 8, 9, 11), (0, 5, 6, 8, 10, 11), (0, 5, 6, 9, 10, 11), (0, 5, 7, 8, 9, 10), (0, 5, 7, 8, 9, 11), (0, 5, 7, 8, 10, 11), (0, 5, 7, 9, 10, 11), (0, 5, 8, 9, 10, 11), (0, 6, 7, 8, 9, 10), (0, 6, 7, 8, 9, 11), (0, 6, 7, 8, 10, 11), (0, 6, 7, 9, 10, 11), (0, 6, 8, 9, 10, 11), (0, 7, 8, 9, 10, 11), (1, 2, 3, 4, 5, 6), (1, 2, 3, 4, 5, 7), (1, 2, 3, 4, 5, 8), (1, 2, 3, 4, 5, 9), (1, 2, 3, 4, 5, 10), (1, 2, 3, 4, 5, 11), (1, 2, 3, 4, 6, 7), (1, 2, 3, 4, 6, 8), (1, 2, 3, 4, 6, 9), (1, 2, 3, 4, 6, 10), (1, 2, 3, 4, 6, 11), (1, 2, 3, 4, 7, 8), (1, 2, 3, 4, 7, 9), (1, 2, 3, 4, 7, 10), (1, 2, 3, 4, 7, 11), (1, 2, 3, 4, 8, 9), (1, 2, 3, 4, 8, 10), (1, 2, 3, 4, 8, 11), (1, 2, 3, 4, 9, 10), (1, 2, 3, 4, 9, 11), (1, 2, 3, 4, 10, 11), (1, 2, 3, 5, 6, 7), (1, 2, 3, 5, 6, 8), (1, 2, 3, 5, 6, 9), (1, 2, 3, 5, 6, 10), (1, 2, 3, 5, 6, 11), (1, 2, 3, 5, 7, 8), (1, 2, 3, 5, 7, 9), (1, 2, 3, 5, 7, 10), (1, 2, 3, 5, 7, 11), (1, 2, 3, 5, 8, 9), (1, 2, 3, 5, 8, 10), (1, 2, 3, 5, 8, 11), (1, 2, 3, 5, 9, 10), (1, 2, 3, 5, 9, 11), (1, 2, 3, 5, 10, 11), (1, 2, 3, 6, 7, 8), (1, 2, 3, 6, 7, 9), (1, 2, 3, 6, 7, 10), (1, 2, 3, 6, 7, 11), (1, 2, 3, 6, 8, 9), (1, 2, 3, 6, 8, 10), (1, 2, 3, 6, 8, 11), (1, 2, 3, 6, 9, 10), (1, 2, 3, 6, 9, 11), (1, 2, 3, 6, 10, 11), (1, 2, 3, 7, 8, 9), (1, 2, 3, 7, 8, 10), (1, 2, 3, 7, 8, 11), (1, 2, 3, 7, 9, 10), (1, 2, 3, 7, 9, 11), (1, 2, 3, 7, 10, 11), (1, 2, 3, 8, 9, 10), (1, 2, 3, 8, 9, 11), (1, 2, 3, 8, 10, 11), (1, 2, 3, 9, 10, 11), (1, 2, 4, 5, 6, 7), (1, 2, 4, 5, 6, 8), (1, 2, 4, 5, 6, 9), (1, 2, 4, 5, 6, 10), (1, 2, 4, 5, 6, 11), (1, 2, 4, 5, 7, 8), (1, 2, 4, 5, 7, 9), (1, 2, 4, 5, 7, 10), (1, 2, 4, 5, 7, 11), (1, 2, 4, 5, 8, 9), (1, 2, 4, 5, 8, 10), (1, 2, 4, 5, 8, 11), (1, 2, 4, 5, 9, 10), (1, 2, 4, 5, 9, 11), (1, 2, 4, 5, 10, 11), (1, 2, 4, 6, 7, 8), (1, 2, 4, 6, 7, 9), (1, 2, 4, 6, 7, 10), (1, 2, 4, 6, 7, 11), (1, 2, 4, 6, 8, 9), (1, 2, 4, 6, 8, 10), (1, 2, 4, 6, 8, 11), (1, 2, 4, 6, 9, 10), (1, 2, 4, 6, 9, 11), (1, 2, 4, 6, 10, 11), (1, 2, 4, 7, 8, 9), (1, 2, 4, 7, 8, 10), (1, 2, 4, 7, 8, 11), (1, 2, 4, 7, 9, 10), (1, 2, 4, 7, 9, 11), (1, 2, 4, 7, 10, 11), (1, 2, 4, 8, 9, 10), (1, 2, 4, 8, 9, 11), (1, 2, 4, 8, 10, 11), (1, 2, 4, 9, 10, 11), (1, 2, 5, 6, 7, 8), (1, 2, 5, 6, 7, 9), (1, 2, 5, 6, 7, 10), (1, 2, 5, 6, 7, 11), (1, 2, 5, 6, 8, 9), (1, 2, 5, 6, 8, 10), (1, 2, 5, 6, 8, 11), (1, 2, 5, 6, 9, 10), (1, 2, 5, 6, 9, 11), (1, 2, 5, 6, 10, 11), (1, 2, 5, 7, 8, 9), (1, 2, 5, 7, 8, 10), (1, 2, 5, 7, 8, 11), (1, 2, 5, 7, 9, 10), (1, 2, 5, 7, 9, 11), (1, 2, 5, 7, 10, 11), (1, 2, 5, 8, 9, 10), (1, 2, 5, 8, 9, 11), (1, 2, 5, 8, 10, 11), (1, 2, 5, 9, 10, 11), (1, 2, 6, 7, 8, 9), (1, 2, 6, 7, 8, 10), (1, 2, 6, 7, 8, 11), (1, 2, 6, 7, 9, 10), (1, 2, 6, 7, 9, 11), (1, 2, 6, 7, 10, 11), (1, 2, 6, 8, 9, 10), (1, 2, 6, 8, 9, 11), (1, 2, 6, 8, 10, 11), (1, 2, 6, 9, 10, 11), (1, 2, 7, 8, 9, 10), (1, 2, 7, 8, 9, 11), (1, 2, 7, 8, 10, 11), (1, 2, 7, 9, 10, 11), (1, 2, 8, 9, 10, 11), (1, 3, 4, 5, 6, 7), (1, 3, 4, 5, 6, 8), (1, 3, 4, 5, 6, 9), (1, 3, 4, 5, 6, 10), (1, 3, 4, 5, 6, 11), (1, 3, 4, 5, 7, 8), (1, 3, 4, 5, 7, 9), (1, 3, 4, 5, 7, 10), (1, 3, 4, 5, 7, 11), (1, 3, 4, 5, 8, 9), (1, 3, 4, 5, 8, 10), (1, 3, 4, 5, 8, 11), (1, 3, 4, 5, 9, 10), (1, 3, 4, 5, 9, 11), (1, 3, 4, 5, 10, 11), (1, 3, 4, 6, 7, 8), (1, 3, 4, 6, 7, 9), (1, 3, 4, 6, 7, 10), (1, 3, 4, 6, 7, 11), (1, 3, 4, 6, 8, 9), (1, 3, 4, 6, 8, 10), (1, 3, 4, 6, 8, 11), (1, 3, 4, 6, 9, 10), (1, 3, 4, 6, 9, 11), (1, 3, 4, 6, 10, 11), (1, 3, 4, 7, 8, 9), (1, 3, 4, 7, 8, 10), (1, 3, 4, 7, 8, 11), (1, 3, 4, 7, 9, 10), (1, 3, 4, 7, 9, 11), (1, 3, 4, 7, 10, 11), (1, 3, 4, 8, 9, 10), (1, 3, 4, 8, 9, 11), (1, 3, 4, 8, 10, 11), (1, 3, 4, 9, 10, 11), (1, 3, 5, 6, 7, 8), (1, 3, 5, 6, 7, 9), (1, 3, 5, 6, 7, 10), (1, 3, 5, 6, 7, 11), (1, 3, 5, 6, 8, 9), (1, 3, 5, 6, 8, 10), (1, 3, 5, 6, 8, 11), (1, 3, 5, 6, 9, 10), (1, 3, 5, 6, 9, 11), (1, 3, 5, 6, 10, 11), (1, 3, 5, 7, 8, 9), (1, 3, 5, 7, 8, 10), (1, 3, 5, 7, 8, 11), (1, 3, 5, 7, 9, 10), (1, 3, 5, 7, 9, 11), (1, 3, 5, 7, 10, 11), (1, 3, 5, 8, 9, 10), (1, 3, 5, 8, 9, 11), (1, 3, 5, 8, 10, 11), (1, 3, 5, 9, 10, 11), (1, 3, 6, 7, 8, 9), (1, 3, 6, 7, 8, 10), (1, 3, 6, 7, 8, 11), (1, 3, 6, 7, 9, 10), (1, 3, 6, 7, 9, 11), (1, 3, 6, 7, 10, 11), (1, 3, 6, 8, 9, 10), (1, 3, 6, 8, 9, 11), (1, 3, 6, 8, 10, 11), (1, 3, 6, 9, 10, 11), (1, 3, 7, 8, 9, 10), (1, 3, 7, 8, 9, 11), (1, 3, 7, 8, 10, 11), (1, 3, 7, 9, 10, 11), (1, 3, 8, 9, 10, 11), (1, 4, 5, 6, 7, 8), (1, 4, 5, 6, 7, 9), (1, 4, 5, 6, 7, 10), (1, 4, 5, 6, 7, 11), (1, 4, 5, 6, 8, 9), (1, 4, 5, 6, 8, 10), (1, 4, 5, 6, 8, 11), (1, 4, 5, 6, 9, 10), (1, 4, 5, 6, 9, 11), (1, 4, 5, 6, 10, 11), (1, 4, 5, 7, 8, 9), (1, 4, 5, 7, 8, 10), (1, 4, 5, 7, 8, 11), (1, 4, 5, 7, 9, 10), (1, 4, 5, 7, 9, 11), (1, 4, 5, 7, 10, 11), (1, 4, 5, 8, 9, 10), (1, 4, 5, 8, 9, 11), (1, 4, 5, 8, 10, 11), (1, 4, 5, 9, 10, 11), (1, 4, 6, 7, 8, 9), (1, 4, 6, 7, 8, 10), (1, 4, 6, 7, 8, 11), (1, 4, 6, 7, 9, 10), (1, 4, 6, 7, 9, 11), (1, 4, 6, 7, 10, 11), (1, 4, 6, 8, 9, 10), (1, 4, 6, 8, 9, 11), (1, 4, 6, 8, 10, 11), (1, 4, 6, 9, 10, 11), (1, 4, 7, 8, 9, 10), (1, 4, 7, 8, 9, 11), (1, 4, 7, 8, 10, 11), (1, 4, 7, 9, 10, 11), (1, 4, 8, 9, 10, 11), (1, 5, 6, 7, 8, 9), (1, 5, 6, 7, 8, 10), (1, 5, 6, 7, 8, 11), (1, 5, 6, 7, 9, 10), (1, 5, 6, 7, 9, 11), (1, 5, 6, 7, 10, 11), (1, 5, 6, 8, 9, 10), (1, 5, 6, 8, 9, 11), (1, 5, 6, 8, 10, 11), (1, 5, 6, 9, 10, 11), (1, 5, 7, 8, 9, 10), (1, 5, 7, 8, 9, 11), (1, 5, 7, 8, 10, 11), (1, 5, 7, 9, 10, 11), (1, 5, 8, 9, 10, 11), (1, 6, 7, 8, 9, 10), (1, 6, 7, 8, 9, 11), (1, 6, 7, 8, 10, 11), (1, 6, 7, 9, 10, 11), (1, 6, 8, 9, 10, 11), (1, 7, 8, 9, 10, 11), (2, 3, 4, 5, 6, 7), (2, 3, 4, 5, 6, 8), (2, 3, 4, 5, 6, 9), (2, 3, 4, 5, 6, 10), (2, 3, 4, 5, 6, 11), (2, 3, 4, 5, 7, 8), (2, 3, 4, 5, 7, 9), (2, 3, 4, 5, 7, 10), (2, 3, 4, 5, 7, 11), (2, 3, 4, 5, 8, 9), (2, 3, 4, 5, 8, 10), (2, 3, 4, 5, 8, 11), (2, 3, 4, 5, 9, 10), (2, 3, 4, 5, 9, 11), (2, 3, 4, 5, 10, 11), (2, 3, 4, 6, 7, 8), (2, 3, 4, 6, 7, 9), (2, 3, 4, 6, 7, 10), (2, 3, 4, 6, 7, 11), (2, 3, 4, 6, 8, 9), (2, 3, 4, 6, 8, 10), (2, 3, 4, 6, 8, 11), (2, 3, 4, 6, 9, 10), (2, 3, 4, 6, 9, 11), (2, 3, 4, 6, 10, 11), (2, 3, 4, 7, 8, 9), (2, 3, 4, 7, 8, 10), (2, 3, 4, 7, 8, 11), (2, 3, 4, 7, 9, 10), (2, 3, 4, 7, 9, 11), (2, 3, 4, 7, 10, 11), (2, 3, 4, 8, 9, 10), (2, 3, 4, 8, 9, 11), (2, 3, 4, 8, 10, 11), (2, 3, 4, 9, 10, 11), (2, 3, 5, 6, 7, 8), (2, 3, 5, 6, 7, 9), (2, 3, 5, 6, 7, 10), (2, 3, 5, 6, 7, 11), (2, 3, 5, 6, 8, 9), (2, 3, 5, 6, 8, 10), (2, 3, 5, 6, 8, 11), (2, 3, 5, 6, 9, 10), (2, 3, 5, 6, 9, 11), (2, 3, 5, 6, 10, 11), (2, 3, 5, 7, 8, 9), (2, 3, 5, 7, 8, 10), (2, 3, 5, 7, 8, 11), (2, 3, 5, 7, 9, 10), (2, 3, 5, 7, 9, 11), (2, 3, 5, 7, 10, 11), (2, 3, 5, 8, 9, 10), (2, 3, 5, 8, 9, 11), (2, 3, 5, 8, 10, 11), (2, 3, 5, 9, 10, 11), (2, 3, 6, 7, 8, 9), (2, 3, 6, 7, 8, 10), (2, 3, 6, 7, 8, 11), (2, 3, 6, 7, 9, 10), (2, 3, 6, 7, 9, 11), (2, 3, 6, 7, 10, 11), (2, 3, 6, 8, 9, 10), (2, 3, 6, 8, 9, 11), (2, 3, 6, 8, 10, 11), (2, 3, 6, 9, 10, 11), (2, 3, 7, 8, 9, 10), (2, 3, 7, 8, 9, 11), (2, 3, 7, 8, 10, 11), (2, 3, 7, 9, 10, 11), (2, 3, 8, 9, 10, 11), (2, 4, 5, 6, 7, 8), (2, 4, 5, 6, 7, 9), (2, 4, 5, 6, 7, 10), (2, 4, 5, 6, 7, 11), (2, 4, 5, 6, 8, 9), (2, 4, 5, 6, 8, 10), (2, 4, 5, 6, 8, 11), (2, 4, 5, 6, 9, 10), (2, 4, 5, 6, 9, 11), (2, 4, 5, 6, 10, 11), (2, 4, 5, 7, 8, 9), (2, 4, 5, 7, 8, 10), (2, 4, 5, 7, 8, 11), (2, 4, 5, 7, 9, 10), (2, 4, 5, 7, 9, 11), (2, 4, 5, 7, 10, 11), (2, 4, 5, 8, 9, 10), (2, 4, 5, 8, 9, 11), (2, 4, 5, 8, 10, 11), (2, 4, 5, 9, 10, 11), (2, 4, 6, 7, 8, 9), (2, 4, 6, 7, 8, 10), (2, 4, 6, 7, 8, 11), (2, 4, 6, 7, 9, 10), (2, 4, 6, 7, 9, 11), (2, 4, 6, 7, 10, 11), (2, 4, 6, 8, 9, 10), (2, 4, 6, 8, 9, 11), (2, 4, 6, 8, 10, 11), (2, 4, 6, 9, 10, 11), (2, 4, 7, 8, 9, 10), (2, 4, 7, 8, 9, 11), (2, 4, 7, 8, 10, 11), (2, 4, 7, 9, 10, 11), (2, 4, 8, 9, 10, 11), (2, 5, 6, 7, 8, 9), (2, 5, 6, 7, 8, 10), (2, 5, 6, 7, 8, 11), (2, 5, 6, 7, 9, 10), (2, 5, 6, 7, 9, 11), (2, 5, 6, 7, 10, 11), (2, 5, 6, 8, 9, 10), (2, 5, 6, 8, 9, 11), (2, 5, 6, 8, 10, 11), (2, 5, 6, 9, 10, 11), (2, 5, 7, 8, 9, 10), (2, 5, 7, 8, 9, 11), (2, 5, 7, 8, 10, 11), (2, 5, 7, 9, 10, 11), (2, 5, 8, 9, 10, 11), (2, 6, 7, 8, 9, 10), (2, 6, 7, 8, 9, 11), (2, 6, 7, 8, 10, 11), (2, 6, 7, 9, 10, 11), (2, 6, 8, 9, 10, 11), (2, 7, 8, 9, 10, 11), (3, 4, 5, 6, 7, 8), (3, 4, 5, 6, 7, 9), (3, 4, 5, 6, 7, 10), (3, 4, 5, 6, 7, 11), (3, 4, 5, 6, 8, 9), (3, 4, 5, 6, 8, 10), (3, 4, 5, 6, 8, 11), (3, 4, 5, 6, 9, 10), (3, 4, 5, 6, 9, 11), (3, 4, 5, 6, 10, 11), (3, 4, 5, 7, 8, 9), (3, 4, 5, 7, 8, 10), (3, 4, 5, 7, 8, 11), (3, 4, 5, 7, 9, 10), (3, 4, 5, 7, 9, 11), (3, 4, 5, 7, 10, 11), (3, 4, 5, 8, 9, 10), (3, 4, 5, 8, 9, 11), (3, 4, 5, 8, 10, 11), (3, 4, 5, 9, 10, 11), (3, 4, 6, 7, 8, 9), (3, 4, 6, 7, 8, 10), (3, 4, 6, 7, 8, 11), (3, 4, 6, 7, 9, 10), (3, 4, 6, 7, 9, 11), (3, 4, 6, 7, 10, 11), (3, 4, 6, 8, 9, 10), (3, 4, 6, 8, 9, 11), (3, 4, 6, 8, 10, 11), (3, 4, 6, 9, 10, 11), (3, 4, 7, 8, 9, 10), (3, 4, 7, 8, 9, 11), (3, 4, 7, 8, 10, 11), (3, 4, 7, 9, 10, 11), (3, 4, 8, 9, 10, 11), (3, 5, 6, 7, 8, 9), (3, 5, 6, 7, 8, 10), (3, 5, 6, 7, 8, 11), (3, 5, 6, 7, 9, 10), (3, 5, 6, 7, 9, 11), (3, 5, 6, 7, 10, 11), (3, 5, 6, 8, 9, 10), (3, 5, 6, 8, 9, 11), (3, 5, 6, 8, 10, 11), (3, 5, 6, 9, 10, 11), (3, 5, 7, 8, 9, 10), (3, 5, 7, 8, 9, 11), (3, 5, 7, 8, 10, 11), (3, 5, 7, 9, 10, 11), (3, 5, 8, 9, 10, 11), (3, 6, 7, 8, 9, 10), (3, 6, 7, 8, 9, 11), (3, 6, 7, 8, 10, 11), (3, 6, 7, 9, 10, 11), (3, 6, 8, 9, 10, 11), (3, 7, 8, 9, 10, 11), (4, 5, 6, 7, 8, 9), (4, 5, 6, 7, 8, 10), (4, 5, 6, 7, 8, 11), (4, 5, 6, 7, 9, 10), (4, 5, 6, 7, 9, 11), (4, 5, 6, 7, 10, 11), (4, 5, 6, 8, 9, 10), (4, 5, 6, 8, 9, 11), (4, 5, 6, 8, 10, 11), (4, 5, 6, 9, 10, 11), (4, 5, 7, 8, 9, 10), (4, 5, 7, 8, 9, 11), (4, 5, 7, 8, 10, 11), (4, 5, 7, 9, 10, 11), (4, 5, 8, 9, 10, 11), (4, 6, 7, 8, 9, 10), (4, 6, 7, 8, 9, 11), (4, 6, 7, 8, 10, 11), (4, 6, 7, 9, 10, 11), (4, 6, 8, 9, 10, 11), (4, 7, 8, 9, 10, 11), (5, 6, 7, 8, 9, 10), (5, 6, 7, 8, 9, 11), (5, 6, 7, 8, 10, 11), (5, 6, 7, 9, 10, 11), (5, 6, 8, 9, 10, 11), (5, 7, 8, 9, 10, 11), (6, 7, 8, 9, 10, 11)]\n"
     ]
    }
   ],
   "source": [
    "# Show different ways of selecting no_cups_milk_first.\n",
    "combs = list(itertools.combinations(labels, no_cups_milk_first))\n",
    "print(combs)"
   ]
  },
  {
   "cell_type": "code",
   "execution_count": 7,
   "metadata": {},
   "outputs": [
    {
     "name": "stdout",
     "output_type": "stream",
     "text": [
      "[2, 5, 6, 7, 9, 10]\n"
     ]
    }
   ],
   "source": [
    "# Select six cups at random to put milk in first.\n",
    "labels_milk = random.sample(labels, 6)\n",
    "\n",
    "# Sort to print labels in order\n",
    "labels_milk.sort()\n",
    "\n",
    "print(labels_milk)"
   ]
  },
  {
   "cell_type": "markdown",
   "metadata": {},
   "source": [
    "We now need to calculate the overlap between combs and labels_milk.  We can use the data structure \"set\" to achieve this, as it allows us to determine the intersection between two sets."
   ]
  },
  {
   "cell_type": "code",
   "execution_count": 8,
   "metadata": {},
   "outputs": [
    {
     "name": "stdout",
     "output_type": "stream",
     "text": [
      "{2, 5, 6, 7, 9, 10}\n"
     ]
    }
   ],
   "source": [
    "# Change labels_milk from a list into a set.\n",
    "print(set(labels_milk))"
   ]
  },
  {
   "cell_type": "code",
   "execution_count": 9,
   "metadata": {},
   "outputs": [],
   "source": [
    "# Calculate overlap between each element of combs and labels_milk\n",
    "no_overlaps = []\n",
    "\n",
    "for comb in combs:\n",
    "  # Turn comb into a set.\n",
    "  s1 = set(comb)\n",
    "  # Turn labels_milk into a set.\n",
    "  s2 = set(labels_milk)\n",
    "  # Figure out where they overlap using intersection.\n",
    "  overlap = s1.intersection(s2)\n",
    "  # Append overlap to no_overlaps.\n",
    "  no_overlaps.append(len(overlap))"
   ]
  },
  {
   "cell_type": "code",
   "execution_count": 10,
   "metadata": {},
   "outputs": [
    {
     "name": "stdout",
     "output_type": "stream",
     "text": [
      "[2, 2, 2, 1, 2, 2, 1, 3, 3, 2, 3, 3, 2, 3, 2, 3, 3, 2, 2, 3, 3, 2, 2, 2, 1, 3, 2, 2, 3, 3, 2, 3, 3, 2, 3, 2, 3, 3, 2, 2, 3, 3, 2, 2, 2, 1, 3, 2, 2, 4, 3, 4, 4, 3, 3, 4, 4, 3, 3, 3, 2, 4, 3, 3, 3, 4, 4, 3, 3, 3, 2, 4, 3, 3, 3, 3, 2, 4, 3, 3, 3, 2, 2, 3, 2, 2, 1, 2, 2, 1, 2, 1, 2, 2, 1, 1, 2, 2, 1, 1, 1, 0, 2, 1, 1, 3, 2, 3, 3, 2, 2, 3, 3, 2, 2, 2, 1, 3, 2, 2, 2, 3, 3, 2, 2, 2, 1, 3, 2, 2, 2, 2, 1, 3, 2, 2, 2, 1, 1, 2, 3, 2, 3, 3, 2, 2, 3, 3, 2, 2, 2, 1, 3, 2, 2, 2, 3, 3, 2, 2, 2, 1, 3, 2, 2, 2, 2, 1, 3, 2, 2, 2, 1, 1, 2, 3, 4, 4, 3, 3, 3, 2, 4, 3, 3, 3, 3, 2, 4, 3, 3, 3, 2, 2, 3, 3, 3, 2, 4, 3, 3, 3, 2, 2, 3, 3, 2, 2, 3, 2, 3, 3, 2, 3, 3, 2, 3, 2, 3, 3, 2, 2, 3, 3, 2, 2, 2, 1, 3, 2, 2, 4, 3, 4, 4, 3, 3, 4, 4, 3, 3, 3, 2, 4, 3, 3, 3, 4, 4, 3, 3, 3, 2, 4, 3, 3, 3, 3, 2, 4, 3, 3, 3, 2, 2, 3, 4, 3, 4, 4, 3, 3, 4, 4, 3, 3, 3, 2, 4, 3, 3, 3, 4, 4, 3, 3, 3, 2, 4, 3, 3, 3, 3, 2, 4, 3, 3, 3, 2, 2, 3, 4, 5, 5, 4, 4, 4, 3, 5, 4, 4, 4, 4, 3, 5, 4, 4, 4, 3, 3, 4, 4, 4, 3, 5, 4, 4, 4, 3, 3, 4, 4, 3, 3, 4, 3, 3, 2, 3, 3, 2, 2, 3, 3, 2, 2, 2, 1, 3, 2, 2, 2, 3, 3, 2, 2, 2, 1, 3, 2, 2, 2, 2, 1, 3, 2, 2, 2, 1, 1, 2, 3, 4, 4, 3, 3, 3, 2, 4, 3, 3, 3, 3, 2, 4, 3, 3, 3, 2, 2, 3, 3, 3, 2, 4, 3, 3, 3, 2, 2, 3, 3, 2, 2, 3, 2, 3, 4, 4, 3, 3, 3, 2, 4, 3, 3, 3, 3, 2, 4, 3, 3, 3, 2, 2, 3, 3, 3, 2, 4, 3, 3, 3, 2, 2, 3, 3, 2, 2, 3, 2, 4, 4, 3, 5, 4, 4, 4, 3, 3, 4, 4, 3, 3, 4, 3, 4, 3, 3, 4, 3, 3, 3, 3, 2, 3, 3, 2, 3, 2, 3, 3, 2, 2, 3, 3, 2, 2, 2, 1, 3, 2, 2, 4, 3, 4, 4, 3, 3, 4, 4, 3, 3, 3, 2, 4, 3, 3, 3, 4, 4, 3, 3, 3, 2, 4, 3, 3, 3, 3, 2, 4, 3, 3, 3, 2, 2, 3, 4, 3, 4, 4, 3, 3, 4, 4, 3, 3, 3, 2, 4, 3, 3, 3, 4, 4, 3, 3, 3, 2, 4, 3, 3, 3, 3, 2, 4, 3, 3, 3, 2, 2, 3, 4, 5, 5, 4, 4, 4, 3, 5, 4, 4, 4, 4, 3, 5, 4, 4, 4, 3, 3, 4, 4, 4, 3, 5, 4, 4, 4, 3, 3, 4, 4, 3, 3, 4, 3, 3, 2, 3, 3, 2, 2, 3, 3, 2, 2, 2, 1, 3, 2, 2, 2, 3, 3, 2, 2, 2, 1, 3, 2, 2, 2, 2, 1, 3, 2, 2, 2, 1, 1, 2, 3, 4, 4, 3, 3, 3, 2, 4, 3, 3, 3, 3, 2, 4, 3, 3, 3, 2, 2, 3, 3, 3, 2, 4, 3, 3, 3, 2, 2, 3, 3, 2, 2, 3, 2, 3, 4, 4, 3, 3, 3, 2, 4, 3, 3, 3, 3, 2, 4, 3, 3, 3, 2, 2, 3, 3, 3, 2, 4, 3, 3, 3, 2, 2, 3, 3, 2, 2, 3, 2, 4, 4, 3, 5, 4, 4, 4, 3, 3, 4, 4, 3, 3, 4, 3, 4, 3, 3, 4, 3, 3, 4, 3, 4, 4, 3, 3, 4, 4, 3, 3, 3, 2, 4, 3, 3, 3, 4, 4, 3, 3, 3, 2, 4, 3, 3, 3, 3, 2, 4, 3, 3, 3, 2, 2, 3, 4, 5, 5, 4, 4, 4, 3, 5, 4, 4, 4, 4, 3, 5, 4, 4, 4, 3, 3, 4, 4, 4, 3, 5, 4, 4, 4, 3, 3, 4, 4, 3, 3, 4, 3, 4, 5, 5, 4, 4, 4, 3, 5, 4, 4, 4, 4, 3, 5, 4, 4, 4, 3, 3, 4, 4, 4, 3, 5, 4, 4, 4, 3, 3, 4, 4, 3, 3, 4, 3, 5, 5, 4, 6, 5, 5, 5, 4, 4, 5, 5, 4, 4, 5, 4, 5, 4, 4, 5, 4, 4, 3, 4, 4, 3, 3, 3, 2, 4, 3, 3, 3, 3, 2, 4, 3, 3, 3, 2, 2, 3, 3, 3, 2, 4, 3, 3, 3, 2, 2, 3, 3, 2, 2, 3, 2, 4, 4, 3, 5, 4, 4, 4, 3, 3, 4, 4, 3, 3, 4, 3, 4, 3, 3, 4, 3, 3, 4, 4, 3, 5, 4, 4, 4, 3, 3, 4, 4, 3, 3, 4, 3, 4, 3, 3, 4, 3, 3, 5, 4, 4, 5, 4, 4, 4]\n"
     ]
    }
   ],
   "source": [
    "# Display overlaps\n",
    "print(no_overlaps)"
   ]
  },
  {
   "cell_type": "markdown",
   "metadata": {},
   "source": [
    "Taking the above data into account, we can use numpy's \"unique\" function* to determine how many different ways there are to select zero correct choices out of six, one out of six, two out of six... et cetera.\n",
    "\n",
    "[2] [unique](numpy.org/doc/stable/reference/generated/numpy.unique.html#numpy-unique)"
   ]
  },
  {
   "cell_type": "code",
   "execution_count": 11,
   "metadata": {},
   "outputs": [
    {
     "data": {
      "text/plain": [
       "(array([0, 1, 2, 3, 4, 5, 6]),\n",
       " array([  1,  36, 225, 400, 225,  36,   1], dtype=int64))"
      ]
     },
     "execution_count": 11,
     "metadata": {},
     "output_type": "execute_result"
    }
   ],
   "source": [
    "# Count number of times each overlap occurs using numpy's unique function\n",
    "\n",
    "\n",
    "counts = np.unique(no_overlaps, return_counts=True)\n",
    "\n",
    "# Display\n",
    "counts"
   ]
  },
  {
   "cell_type": "markdown",
   "metadata": {},
   "source": [
    "What the above array illustrates is that while there is only one way of selecting the correct six cups, there are 36 ways of selecting six choices with five overlaps (i.e. with one error). To calculate the probability of randomly selecting at least 5 correct cups out of 12, we need to sum the probabilities of selecting exactly 5 or 6 correct cups. In other words, we add 36 (five correct choices) to 1 (six correct choices) and divide this number by 924."
   ]
  },
  {
   "cell_type": "code",
   "execution_count": 12,
   "metadata": {},
   "outputs": [
    {
     "data": {
      "text/plain": [
       "0.04004329004329004"
      ]
     },
     "execution_count": 12,
     "metadata": {},
     "output_type": "execute_result"
    }
   ],
   "source": [
    "# The probability of randomly selecting at least five correct cups.\n",
    "(36 + 1) / 924"
   ]
  },
  {
   "cell_type": "markdown",
   "metadata": {},
   "source": [
    "Question: Would you accept two errors? Explain.\n",
    "\n",
    "Answer:  I would not accept two errors, as the likelihood of randomly guessing 4 out of 6 correctly is too high. We can calculate the probability by dividing 225 by 924."
   ]
  },
  {
   "cell_type": "code",
   "execution_count": 13,
   "metadata": {},
   "outputs": [
    {
     "data": {
      "text/plain": [
       "0.2435064935064935"
      ]
     },
     "execution_count": 13,
     "metadata": {},
     "output_type": "execute_result"
    }
   ],
   "source": [
    "# The probability of randomly selecting four correct cups.\n",
    "\n",
    "225 / 924"
   ]
  },
  {
   "cell_type": "markdown",
   "metadata": {},
   "source": [
    "***CONCLUSION:***  The probability of randomly selecting four correct cups is 0.24 (24 %), which is too high a figure. It indicates that it would be reasonably likely that someone could just randomly guess 4 cups from 6 correctly without any special ability.  "
   ]
  },
  {
   "cell_type": "markdown",
   "metadata": {},
   "source": [
    "***"
   ]
  },
  {
   "cell_type": "markdown",
   "metadata": {},
   "source": [
    "***Task Solution***: In this exercise, I will use functions contained in the numpy* and scipy packages to create a sample of 100,000 values and then carry out some investigations in order to explore some of the facets of the normal distribution.\n",
    "\n",
    "[3] [random](https://numpy.org/doc/stable/reference/generated/numpy.unique.html#numpy-unique)"
   ]
  },
  {
   "cell_type": "markdown",
   "metadata": {},
   "source": [
    "### Task 2: numpy's Normal Distribution\n",
    "\n",
    "***Task Description***: In this task you will assess whether numpy.random.normal() properly generates normal values. To begin, generate a sample of one hundred thousand values using the function with mean 10.0 and standard deviation 3.0.\n",
    "\n",
    "Use the scipy.stats.shapiro() function to test whether your sample came from a normal distribution. Explain the results and output.\n",
    "\n",
    "Plot a histogram of your values and plot the corresponding normal distribution probability density function on top of it.\n",
    "\n",
    "***\n"
   ]
  },
  {
   "cell_type": "code",
   "execution_count": 14,
   "metadata": {},
   "outputs": [
    {
     "data": {
      "text/plain": [
       "array([10.73524052,  3.25225537, 13.50662228, ..., 12.3824919 ,\n",
       "        4.18784626, 12.70292502])"
      ]
     },
     "execution_count": 14,
     "metadata": {},
     "output_type": "execute_result"
    }
   ],
   "source": [
    "# Generate a random sample of size 100,000 with mean 10.0 and standard deviation of 3.0 \n",
    "# https://numpy.org/doc/stable/reference/random/generated/numpy.random.normal.html#numpy-random-normal\n",
    "\n",
    "data = np.random.normal(loc=10.0, scale=3.0, size=100000)\n",
    "\n",
    "# Show\n",
    "data"
   ]
  },
  {
   "cell_type": "markdown",
   "metadata": {},
   "source": [
    "The Shapiro Wilk Test can be used to determine whether a given set of values is normally distributed or not. The null hypothesis of Shapiro’s test is that the data is distributed normally.  The scipy.stats library has a function (.shapiro) which allows us to carry out this test.*\n",
    "\n",
    "[4] [Shapiro](https://www.geeksforgeeks.org/how-to-perform-a-shapiro-wilk-test-in-python/)"
   ]
  },
  {
   "cell_type": "code",
   "execution_count": 15,
   "metadata": {},
   "outputs": [
    {
     "name": "stderr",
     "output_type": "stream",
     "text": [
      "c:\\Users\\cusac\\anaconda33\\lib\\site-packages\\scipy\\stats\\_morestats.py:1882: UserWarning: p-value may not be accurate for N > 5000.\n",
      "  warnings.warn(\"p-value may not be accurate for N > 5000.\")\n"
     ]
    },
    {
     "data": {
      "text/plain": [
       "ShapiroResult(statistic=0.9999884366989136, pvalue=0.9982630610466003)"
      ]
     },
     "execution_count": 15,
     "metadata": {},
     "output_type": "execute_result"
    }
   ],
   "source": [
    "# Run Shapiro-Wilk test\n",
    "\n",
    "ss.shapiro(data)"
   ]
  },
  {
   "cell_type": "markdown",
   "metadata": {},
   "source": [
    "The result of the above Shapiro Wilks test, with a high p-value of 0.96, tells us that the data is most likely normally distributed, and consequently we do not reject the null hypothesis in this instance."
   ]
  },
  {
   "cell_type": "code",
   "execution_count": 16,
   "metadata": {},
   "outputs": [
    {
     "data": {
      "text/plain": [
       "<function matplotlib.pyplot.show(close=None, block=None)>"
      ]
     },
     "execution_count": 16,
     "metadata": {},
     "output_type": "execute_result"
    },
    {
     "data": {
      "image/png": "[encoded data removed]",
      "text/plain": [
       "<Figure size 640x480 with 1 Axes>"
      ]
     },
     "metadata": {},
     "output_type": "display_data"
    }
   ],
   "source": [
    "# Visualise data with histogram, using numpy's linspace to return evenly spaced numbers over a specified interval\n",
    "\n",
    "plt.hist(data, edgecolor='black', density=True, bins=np.linspace(-1, 22, 22))\n",
    "plt.show"
   ]
  },
  {
   "cell_type": "markdown",
   "metadata": {},
   "source": [
    "The resulting histogram, created using numpy's linspace to return evenly spaced numbers over a specified interval, is centered on the mean of 10 and has the characteristic bell-shaped curve of the Normal distribution.\n",
    "\n",
    "[5] [linspace](numpy.org/doc/stable/reference/generated/numpy.linspace.html)\n",
    "\n",
    "***"
   ]
  },
  {
   "cell_type": "markdown",
   "metadata": {},
   "source": [
    "### Probability Density Function\n",
    "\n",
    "Probability density function (or PDF) describes the probability of a random variable falling within a particular range of values.* The probability density function is a mathematical formula which can be expressed as :"
   ]
  },
  {
   "cell_type": "markdown",
   "metadata": {},
   "source": [
    "$ f(x) = \\frac{1}{ \\sqrt{2 \\pi \\sigma^2}} e^{-\\frac{(x - \\mu)^2}{2 \\sigma^2}} $\n",
    "                                              "
   ]
  },
  {
   "cell_type": "markdown",
   "metadata": {},
   "source": [
    "[6] [Probability density function](en.wikipedia.org/wiki/Probability_density_function)"
   ]
  },
  {
   "cell_type": "markdown",
   "metadata": {},
   "source": [
    "In the next cell, I will plot the normal distribution probability density function on top of the above histogram."
   ]
  },
  {
   "cell_type": "code",
   "execution_count": 17,
   "metadata": {},
   "outputs": [
    {
     "data": {
      "text/plain": [
       "[<matplotlib.lines.Line2D at 0x1dcc8251220>]"
      ]
     },
     "execution_count": 17,
     "metadata": {},
     "output_type": "execute_result"
    },
    {
     "data": {
      "image/png": "[encoded data removed]",
      "text/plain": [
       "<Figure size 640x480 with 1 Axes>"
      ]
     },
     "metadata": {},
     "output_type": "display_data"
    }
   ],
   "source": [
    "# create histogram, incorporating probability density function\n",
    "\n",
    "# Standard deviation\n",
    "std = 3\n",
    "\n",
    "# Mean\n",
    "mean = 10\n",
    "\n",
    "# Bins\n",
    "bins=np.linspace(-1, 22, 22)\n",
    "\n",
    "plt.hist(data, edgecolor='black', density=True, bins=np.linspace(-1, 22, 22))\n",
    "plt.plot(bins, 1/(std * np.sqrt(2 * np.pi)) *   \n",
    "               np.exp( - (bins - mean)**2 / (2 * std**2) ),  # PDF\n",
    "         linewidth=2, color='r')"
   ]
  },
  {
   "cell_type": "markdown",
   "metadata": {},
   "source": [
    "***"
   ]
  },
  {
   "attachments": {
    "patientID.png": {
     "image/png": "[encoded data removed]"
    }
   },
   "cell_type": "markdown",
   "metadata": {},
   "source": [
    "### Task 3: $t$-test Calculation\n",
    "\n",
    "***Task Description*** : Consider the following dataset containing resting heart rates for patients before and after embarking on a two-week exercise program.\n",
    "\n",
    "![patientID.png](attachment:patientID.png)\n",
    "\n",
    "Calculate the t-statistic based on this data set, using Python. Compare it to the value given by scipy.stats. Explain your work and list any sources used."
   ]
  },
  {
   "cell_type": "markdown",
   "metadata": {},
   "source": [
    "***Task Solution:*** This task requires us to calculate the t-statistic of the patient data set using Python and also by running scipy's $t$-test operation within scipy stats. To begin, I will store the data in a pandas dataframe so that I can create a boxplot visualisation."
   ]
  },
  {
   "cell_type": "code",
   "execution_count": 18,
   "metadata": {},
   "outputs": [
    {
     "name": "stdout",
     "output_type": "stream",
     "text": [
      "   Patient_ID  Before  After\n",
      "0           0      63     64\n",
      "1           1      68     64\n",
      "2           2      70     68\n",
      "3           3      64     64\n",
      "4           4      74     73\n",
      "5           5      67     70\n",
      "6           6      70     72\n",
      "7           7      57     54\n",
      "8           8      66     61\n",
      "9           9      65     63\n"
     ]
    }
   ],
   "source": [
    "# store data\n",
    "patient_data = {\n",
    "    'Patient_ID': range(10),\n",
    "    'Before': [63, 68, 70, 64, 74, 67, 70, 57, 66, 65],\n",
    "    'After': [64, 64, 68, 64, 73, 70, 72, 54, 61, 63]\n",
    "}\n",
    "# pandas data frame\n",
    "df = pd.DataFrame(patient_data)\n",
    "print(df)"
   ]
  },
  {
   "cell_type": "code",
   "execution_count": 19,
   "metadata": {},
   "outputs": [
    {
     "data": {
      "text/html": [
       "<div>\n",
       "<style scoped>\n",
       "    .dataframe tbody tr th:only-of-type {\n",
       "        vertical-align: middle;\n",
       "    }\n",
       "\n",
       "    .dataframe tbody tr th {\n",
       "        vertical-align: top;\n",
       "    }\n",
       "\n",
       "    .dataframe thead th {\n",
       "        text-align: right;\n",
       "    }\n",
       "</style>\n",
       "<table border=\"1\" class=\"dataframe\">\n",
       "  <thead>\n",
       "    <tr style=\"text-align: right;\">\n",
       "      <th></th>\n",
       "      <th>Patient_ID</th>\n",
       "      <th>Before</th>\n",
       "      <th>After</th>\n",
       "    </tr>\n",
       "  </thead>\n",
       "  <tbody>\n",
       "    <tr>\n",
       "      <th>count</th>\n",
       "      <td>10.00000</td>\n",
       "      <td>10.00000</td>\n",
       "      <td>10.000000</td>\n",
       "    </tr>\n",
       "    <tr>\n",
       "      <th>mean</th>\n",
       "      <td>4.50000</td>\n",
       "      <td>66.40000</td>\n",
       "      <td>65.300000</td>\n",
       "    </tr>\n",
       "    <tr>\n",
       "      <th>std</th>\n",
       "      <td>3.02765</td>\n",
       "      <td>4.64758</td>\n",
       "      <td>5.677441</td>\n",
       "    </tr>\n",
       "    <tr>\n",
       "      <th>min</th>\n",
       "      <td>0.00000</td>\n",
       "      <td>57.00000</td>\n",
       "      <td>54.000000</td>\n",
       "    </tr>\n",
       "    <tr>\n",
       "      <th>25%</th>\n",
       "      <td>2.25000</td>\n",
       "      <td>64.25000</td>\n",
       "      <td>63.250000</td>\n",
       "    </tr>\n",
       "    <tr>\n",
       "      <th>50%</th>\n",
       "      <td>4.50000</td>\n",
       "      <td>66.50000</td>\n",
       "      <td>64.000000</td>\n",
       "    </tr>\n",
       "    <tr>\n",
       "      <th>75%</th>\n",
       "      <td>6.75000</td>\n",
       "      <td>69.50000</td>\n",
       "      <td>69.500000</td>\n",
       "    </tr>\n",
       "    <tr>\n",
       "      <th>max</th>\n",
       "      <td>9.00000</td>\n",
       "      <td>74.00000</td>\n",
       "      <td>73.000000</td>\n",
       "    </tr>\n",
       "  </tbody>\n",
       "</table>\n",
       "</div>"
      ],
      "text/plain": [
       "       Patient_ID    Before      After\n",
       "count    10.00000  10.00000  10.000000\n",
       "mean      4.50000  66.40000  65.300000\n",
       "std       3.02765   4.64758   5.677441\n",
       "min       0.00000  57.00000  54.000000\n",
       "25%       2.25000  64.25000  63.250000\n",
       "50%       4.50000  66.50000  64.000000\n",
       "75%       6.75000  69.50000  69.500000\n",
       "max       9.00000  74.00000  73.000000"
      ]
     },
     "execution_count": 19,
     "metadata": {},
     "output_type": "execute_result"
    }
   ],
   "source": [
    "# describe the data\n",
    "df.describe()"
   ]
  },
  {
   "cell_type": "markdown",
   "metadata": {},
   "source": [
    "Next, I will visualise the data using a box plot, which will show the distribution of the data in the Before and After groups."
   ]
  },
  {
   "cell_type": "code",
   "execution_count": 20,
   "metadata": {},
   "outputs": [
    {
     "data": {
      "text/plain": [
       "0    63\n",
       "1    68\n",
       "2    70\n",
       "3    64\n",
       "4    74\n",
       "5    67\n",
       "6    70\n",
       "7    57\n",
       "8    66\n",
       "9    65\n",
       "Name: Before, dtype: int64"
      ]
     },
     "execution_count": 20,
     "metadata": {},
     "output_type": "execute_result"
    }
   ],
   "source": [
    "# print before values\n",
    "before = df['Before']\n",
    "before"
   ]
  },
  {
   "cell_type": "code",
   "execution_count": 21,
   "metadata": {},
   "outputs": [
    {
     "data": {
      "text/plain": [
       "0    64\n",
       "1    64\n",
       "2    68\n",
       "3    64\n",
       "4    73\n",
       "5    70\n",
       "6    72\n",
       "7    54\n",
       "8    61\n",
       "9    63\n",
       "Name: After, dtype: int64"
      ]
     },
     "execution_count": 21,
     "metadata": {},
     "output_type": "execute_result"
    }
   ],
   "source": [
    "# print after values\n",
    "after = df['After']\n",
    "after"
   ]
  },
  {
   "cell_type": "code",
   "execution_count": 22,
   "metadata": {},
   "outputs": [
    {
     "data": {
      "text/plain": [
       "<Axes: >"
      ]
     },
     "execution_count": 22,
     "metadata": {},
     "output_type": "execute_result"
    },
    {
     "data": {
      "image/png": "[encoded data removed]",
      "text/plain": [
       "<Figure size 640x480 with 1 Axes>"
      ]
     },
     "metadata": {},
     "output_type": "display_data"
    }
   ],
   "source": [
    "# boxplot\n",
    "sns.boxplot(data= [before, after])"
   ]
  },
  {
   "cell_type": "markdown",
   "metadata": {},
   "source": [
    "The above box plot shows us that while the range of the respective values is broadly similar, there is a definite decrease in heart rates in the \"after\" group when compared to the \"before\" group (illustrated by the lower positioning of the median line in the \"after\" box, as well as the positioning of the whiskers which show the highest and lowest value data points in each group).\n",
    "\n",
    "Below I will calculate the t-statistic based on this data set, using Python. Firstly, I will need to find the mean and standard deviation of both the before and after groups."
   ]
  },
  {
   "cell_type": "code",
   "execution_count": 23,
   "metadata": {},
   "outputs": [
    {
     "name": "stdout",
     "output_type": "stream",
     "text": [
      "66.4\n",
      "4.409081537009721\n"
     ]
    }
   ],
   "source": [
    "# calculate mean and standard deviation of before\n",
    "mean_before = np.mean(before)\n",
    "std_before = np.std(before)\n",
    "print(mean_before)\n",
    "print(std_before)"
   ]
  },
  {
   "cell_type": "code",
   "execution_count": 24,
   "metadata": {},
   "outputs": [
    {
     "name": "stdout",
     "output_type": "stream",
     "text": [
      "65.3\n",
      "5.386093203798092\n"
     ]
    }
   ],
   "source": [
    "# calculate mean and standard deviation of after\n",
    "mean_after= np.mean(after)\n",
    "std_after = np.std(after)\n",
    "print(mean_after)\n",
    "print(std_after)"
   ]
  },
  {
   "cell_type": "code",
   "execution_count": 25,
   "metadata": {},
   "outputs": [
    {
     "data": {
      "text/plain": [
       "0.499741935466684"
      ]
     },
     "execution_count": 25,
     "metadata": {},
     "output_type": "execute_result"
    }
   ],
   "source": [
    "# calculate the statistic by subtracting mean after from mean before, dividing by sq root of standard deviations over sample size (10)\n",
    "t_statistic = (mean_before - mean_after) / ((std_before**2 / 10) + (std_after**2 / 10))**0.5\n",
    "t_statistic"
   ]
  },
  {
   "cell_type": "markdown",
   "metadata": {},
   "source": [
    "### Independent Samples $t$-test\n",
    "\n",
    "[7] [t test](https://docs.scipy.org/doc/scipy/reference/generated/scipy.stats.ttest_ind.html)\n",
    "\n",
    "***Null Hypothesis*** = the means of the two sample sizes are equal.\n",
    "\n",
    "Next, I perform a t-test on the before and after samples to test the null hypothesis and then compare the results with the t-statistic python calculations above.\n"
   ]
  },
  {
   "cell_type": "code",
   "execution_count": 26,
   "metadata": {},
   "outputs": [
    {
     "data": {
      "text/plain": [
       "TtestResult(statistic=0.4740968275126808, pvalue=0.6411310132871086, df=18.0)"
      ]
     },
     "execution_count": 26,
     "metadata": {},
     "output_type": "execute_result"
    }
   ],
   "source": [
    "# run t test\n",
    "ss.ttest_ind(before, after)"
   ]
  },
  {
   "cell_type": "markdown",
   "metadata": {},
   "source": [
    "Th p-value (or probability value) of a t-test denotes the likelihood of \"obtaining test results at least as extreme as the result actually observed, under the assumption that the null hypothesis is correct\". *\n",
    "The above t-test gives us a high p-value of 0.64 (or 64%), suggesting that we should not reject the null hypothesis in this instance.*\n",
    "\n",
    "***CONCLUSION:*** The statistic result of 0.47 is very similar to the earlier python calculation of 0.499, demonstrating that both are reliable methods of calculation.\n",
    "\n",
    "[8] [P-value](https://en.wikipedia.org/wiki/P-value#)\n",
    "\n",
    "[9] [Independent t-test for two samples](https://statistics.laerd.com/statistical-guides/independent-t-test-statistical-guide.php)\n",
    "\n",
    "***"
   ]
  },
  {
   "cell_type": "markdown",
   "metadata": {},
   "source": [
    "### Task 4: ANOVA\n",
    "\n",
    "***Task Description***: In this test we will estimate the probability of committing a type II error in specific circumstances. To begin, create a variable called no_type_ii and set it to 0.\n",
    "\n",
    "Now use a loop to perform the following test 10,000 times.\n",
    "\n",
    "Use numpy.random.normal to generate three samples with 100 values each. Give each a standard deviation of 0.1. Give the first sample a mean of 4.9, the second a mean of 5.0, and the third a mean of 5.1.\n",
    "\n",
    "Perform one-way anova on the three samples and add 1 to no_type_ii whenever a type II error occurs.\n",
    "\n",
    "Summarize and explain your results."
   ]
  },
  {
   "cell_type": "markdown",
   "metadata": {},
   "source": [
    "***Task Solution:***   As we have already seen, the t test is highly effective when examining statistical differences between two separate samples.  This task however involves using ANOVA (or analysis of variance) which tests whether \"statistically significant differences exist between more than two samples\". *  One-way ANOVA tests whether there is a difference between the means of more than two groups. \n",
    "\n",
    "This task involves calculating the number of times a Type 2 error occurs when running an ANOVA test multiple times. A type 2 error (or false negative) is defined as \"the failure to reject a null hypothesis that is actually false\". *\n",
    "\n",
    "Firstly, I will create a variable called no_type_ii and set it to 0.\n",
    "\n",
    "[10] [ANOVA](https://datatab.net/tutorial/anova)\n",
    "\n",
    "[11] [Type 2 error](https://en.wikipedia.org/wiki/Type_I_and_type_II_errors)"
   ]
  },
  {
   "cell_type": "code",
   "execution_count": 27,
   "metadata": {},
   "outputs": [],
   "source": [
    "# create a variable called no_type_ii and set it to 0\n",
    "no_type_ii = 0"
   ]
  },
  {
   "cell_type": "markdown",
   "metadata": {},
   "source": [
    "Next, I will define a function \"simulate_anova\", setting the significance level to 0.05.  I will use numpy.random.normal to generate three samples as per the task requirements.  Then I will create an if statement which wil return a boolean value when the p value exceeds the alpha, or siginificance level, of 0.05."
   ]
  },
  {
   "cell_type": "code",
   "execution_count": 28,
   "metadata": {},
   "outputs": [],
   "source": [
    "from scipy.stats import f_oneway\n",
    "\n",
    "def simulate_anova(alpha=0.05):\n",
    "    # Generate a random sample a.\n",
    "    sample_a = np.random.normal(loc=4.9, scale=0.1, size=100)\n",
    "    # Generate a random sample b.\n",
    "    sample_b = np.random.normal(loc=5.0, scale=0.1, size=100)\n",
    "    # Generate a random sample c\n",
    "    sample_c = np.random.normal(loc=5.1, scale=0.1, size=100)\n",
    "\n",
    "    # Perform one-way ANOVA\n",
    "    f_stat, p_value = f_oneway(sample_a, sample_b, sample_c)\n",
    "\n",
    "    \n",
    "    # Type 2 error logic\n",
    "    if p_value > alpha:\n",
    "        return True\n",
    "    else:\n",
    "        return False"
   ]
  },
  {
   "cell_type": "markdown",
   "metadata": {},
   "source": [
    "Next, I use a loop to perform the ANOVA test 10,000 times and display the number of type 2 errors which occur."
   ]
  },
  {
   "cell_type": "code",
   "execution_count": 29,
   "metadata": {},
   "outputs": [
    {
     "data": {
      "text/plain": [
       "0"
      ]
     },
     "execution_count": 29,
     "metadata": {},
     "output_type": "execute_result"
    }
   ],
   "source": [
    "# Run test 10,000 times\n",
    "for _ in range(10000):\n",
    "    # Check if null hypothesis is rejected.\n",
    "    if simulate_anova():\n",
    "        # Increment number of type 2 errors by 1\n",
    "        no_type_ii += 1\n",
    "\n",
    "# Show number of type 2 errors.\n",
    "no_type_ii"
   ]
  },
  {
   "cell_type": "markdown",
   "metadata": {},
   "source": [
    "After running the test numerous times, I repeatedly get a result of zero type 2 errors.  At first, I thought this may be due to an error in the code. However, after some research, I've concluded that the combination of large sample size, low standard deviation and distinct difference in mean of the three samples are leading to high sensitivity in the test. High sensitivity means that the test will return a high number of true positive results (and a corresponding low number of false positives).  For example in a medical setting \"a highly sensitive test is one that correctly identifies patients with a disease\" *\n",
    "\n",
    "To test this, I will try to decrease the sensitivity of the data by changing the size of each sample to 10, and then check to see if I get a different result.\n",
    "\n",
    "[12] [Sensitivity](www.statisticshowto.com/probability-and-statistics/statistics-definitions/sensitivity-vs-specificity-statistics/#SEN)"
   ]
  },
  {
   "cell_type": "code",
   "execution_count": 30,
   "metadata": {},
   "outputs": [
    {
     "data": {
      "text/plain": [
       "285"
      ]
     },
     "execution_count": 30,
     "metadata": {},
     "output_type": "execute_result"
    }
   ],
   "source": [
    "def simulate_anova(alpha=0.05):\n",
    "    # Generate a random sample a.\n",
    "    sample_d = np.random.normal(loc=4.9, scale=0.1, size=10)\n",
    "    # Generate a random sample b.\n",
    "    sample_e = np.random.normal(loc=5.0, scale=0.1, size=10)\n",
    "    # Generate a random sample c\n",
    "    sample_f = np.random.normal(loc=5.1, scale=0.1, size=10)\n",
    "\n",
    "    # Perform one-way ANOVA\n",
    "    f_stat, p_value = f_oneway(sample_d, sample_e, sample_f)\n",
    "\n",
    "    \n",
    "    # Type 2 error logic\n",
    "    if p_value > alpha:\n",
    "        return True\n",
    "    else:\n",
    "        return False\n",
    "    \n",
    "    # Run test 10,000 times\n",
    "for _ in range(10000):\n",
    "    # Check if null hypothesis is rejected.\n",
    "    if simulate_anova():\n",
    "        # Increment number of type 2 errors by 1\n",
    "        no_type_ii += 1\n",
    "\n",
    "# Show number of type 2 errors.\n",
    "no_type_ii"
   ]
  },
  {
   "cell_type": "markdown",
   "metadata": {},
   "source": [
    "***CONCLUSION:***  After decreasing the size of each sample to 10, the results are markedly different.  After running the ANOVA test multiple times, instead of repeatedly getting a result of zero, I now get results more in the range of 100 to 200. This is due to the fact that the much smaller sample size has diluted the sensitivity of the test. The smaller the sample size, the harder it is to avoid Type 2 errors.\n",
    "\n",
    "***"
   ]
  },
  {
   "cell_type": "markdown",
   "metadata": {},
   "source": [
    "### References\n",
    "\n",
    "[1]  *Python math.comb() Method.*  W3 schools. **www.w3schools.com/python/ref_math_comb.asp**\n",
    "\n",
    "[2]  *numpy.unique.*  Numpy developers. **numpy.org/doc/stable/reference/generated/numpy.unique.html#numpy-unique**\n",
    "\n",
    "[3] *numpy.random.normal.*  Numpy developers. **numpy.org/doc/stable/reference/random/generated/numpy.random.normal.html#numpy-random-normal**\n",
    "\n",
    "[4] *scipy.stats.shapiro.*  Geeks for Geeks.  **geeksforgeeks.org/how-to-perform-a-shapiro-wilk-test-in-python**\n",
    "\n",
    "[5] *numpy.linspace.*  Numpy developers. **numpy.org/doc/stable/reference/generated/numpy.linspace.html**\n",
    "\n",
    "[6] *Probability Density Function.*  **en.wikipedia.org/wiki/Probability_density_function**\n",
    "\n",
    "[7]  *scipy.stats.ttest_ind.*  Scipy community. **docs.scipy.org/doc/scipy/reference/generated/scipy.stats.ttest_ind.html**\n",
    "\n",
    "[8] *P-value*  **en.wikipedia.org/wiki/P-value**\n",
    "\n",
    "[9] *Independent t-test for two samples.*  Laerd statistics. **statistics.laerd.com/statistical-guides/independent-t-test-statistical-guide.php**\n",
    "\n",
    "[10] *Analysis of Variance (ANOVA).* Datatab team.  **datatab.net/tutorial/anova**\n",
    "\n",
    "[11] *Type 1 and Type 2 errors.*  **en.wikipedia.org/wiki/Type_I_and_type_II_errors**\n",
    "\n",
    "[12] *Sensitivity vs Specificity and Predictive Value*.  **statisticshowto.com/probability-and-statistics/statistics-definitions/sensitivity-vs-specificity-statistics/#SEN**\n"
   ]
  },
  {
   "cell_type": "markdown",
   "metadata": {},
   "source": [
    "***\n",
    "## End\n",
    "***"
   ]
  }
 ],
 "metadata": {
  "kernelspec": {
   "display_name": "base",
   "language": "python",
   "name": "python3"
  },
  "language_info": {
   "codemirror_mode": {
    "name": "ipython",
    "version": 3
   },
   "file_extension": ".py",
   "mimetype": "text/x-python",
   "name": "python",
   "nbconvert_exporter": "python",
   "pygments_lexer": "ipython3",
   "version": "3.9.18"
  }
 },
 "nbformat": 4,
 "nbformat_minor": 2
}
