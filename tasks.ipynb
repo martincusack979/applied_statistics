{
 "cells": [
  {
   "cell_type": "markdown",
   "metadata": {},
   "source": [
    "# Tasks\n",
    "\n",
    "**Applied Statistics**\n",
    "\n",
    "Martin Cusack\n",
    "\n",
    "Student I.D: G00239124\n",
    "\n",
    "***"
   ]
  },
  {
   "cell_type": "markdown",
   "metadata": {},
   "source": [
    "### Task 1: Permutations and Combinations\n",
    "\n",
    "***Task Description***:  Suppose we alter the Lady Tasting Tea experiment to involve twelve cups of tea. Six have the milk in first and the other six having tea in first. A person claims they have the special power of being able to tell whether the tea or the milk went into a cup first upon tasting it. You agree to accept their claim if they can tell which of the six cups in your experiment had the milk in first.\n",
    "\n",
    "Calculate, using Python, the probability that they select the correct six cups. Here you should assume that they have no special powers in figuring it out, that they are just guessing. Remember to show and justify your workings in code and MarkDown cells.\n",
    "\n",
    "Suppose, now, you are willing to accept one error. Once they select the six cups they think had the milk in first, you will give them the benefit of the doubt should they have selected at least five of the correct cups. Calculate the probability, assuming they have no special powers, that the person makes at most one error.\n",
    "\n",
    "Would you accept two errors? Explain.\n",
    "***"
   ]
  },
  {
   "cell_type": "markdown",
   "metadata": {},
   "source": [
    "***Task Solution:*** This question, based on Ronald Fisher's famous Lady Tasting Tea experiment, requires us firstly to figure out how many different ways there are of selecting 6 choices from a group of 12 (i.e. the number of different combinations of size 6) and then to calculate the probability of someone correctly identifying the 6 cups which had milk in first from a group of 12 cups. We can achieve this by importing and using Python's math.comb () method (also known as the choose function).\n",
    "\n",
    "Firstly, we import the math module from Python.  We set out how many cups of tea there are in total, and then how many have milk in first and tea in first."
   ]
  },
  {
   "cell_type": "code",
   "execution_count": 1,
   "metadata": {},
   "outputs": [],
   "source": [
    "# Math functions from Python standard library.\n",
    "import math\n",
    "\n",
    "# Iterator functions from Python standard library\n",
    "import itertools\n",
    "\n",
    "# Random selections\n",
    "import random\n",
    "\n",
    "# Numerical structures and operations\n",
    "import numpy as np\n",
    "\n",
    "# number of cups of tea in total\n",
    "no_cups = 12\n",
    "\n",
    "# number of cups of tea with milk in first\n",
    "\n",
    "no_cups_milk_first = 6\n",
    "\n",
    "# number of cups of tea with tea in first\n",
    "\n",
    "no_cups_tea_first = 6\n"
   ]
  },
  {
   "cell_type": "markdown",
   "metadata": {},
   "source": [
    "We then use the math.comb() method to calculate how many different ways exist of selecting six cups from 12. \"the math.comb() method returns the number of ways picking k unordered outcomes from n possibilities, without repetition, also known as combinations.\"  *\n",
    "\n",
    "*https://www.w3schools.com/python/ref_math_comb.asp"
   ]
  },
  {
   "cell_type": "code",
   "execution_count": 2,
   "metadata": {},
   "outputs": [
    {
     "data": {
      "text/plain": [
       "924"
      ]
     },
     "execution_count": 2,
     "metadata": {},
     "output_type": "execute_result"
    }
   ],
   "source": [
    "# the math.comb() method returns the number of ways picking k unordered outcomes from n possibilities, \n",
    "# without repetition(https://www.w3schools.com/python/ref_math_comb.asp)\n",
    "\n",
    "from math import comb \n",
    "\n",
    "# number of ways of selecting 6 cups from 12 ( i.e. 12*11*10*9*8*7 / 6*5*4*3*2*1)\n",
    "ways = math.comb(no_cups, no_cups_milk_first)\n",
    "# show\n",
    "ways"
   ]
  },
  {
   "cell_type": "markdown",
   "metadata": {},
   "source": [
    "From the above calculation we can see that there are 924 possible combinations, meaning there is a one in 924 chance of randomly selecting the correct 6 cups. The probability of this happening is calculated below."
   ]
  },
  {
   "cell_type": "code",
   "execution_count": 3,
   "metadata": {},
   "outputs": [
    {
     "data": {
      "text/plain": [
       "0.0010822510822510823"
      ]
     },
     "execution_count": 3,
     "metadata": {},
     "output_type": "execute_result"
    }
   ],
   "source": [
    "# The probability of randomly selecting the six correct cups.\n",
    "1 / 924"
   ]
  },
  {
   "cell_type": "markdown",
   "metadata": {},
   "source": [
    "As we can see from the above, it is highly unlikely that someone could randomly select the correct six cups without some form of special ability.  Next, we need to calculate the probability of correctly selecting at least 5 out of 6 cups (i.e. making one error).  To do this, we can use numpy to calculate the number of times five choices can overlap with the correct six choices. Firstly, we give each cup a label, and then by displaying the number of different ways of selecting \"no_cups_milk_first\" we can determine the number of overlaps."
   ]
  },
  {
   "cell_type": "code",
   "execution_count": 4,
   "metadata": {},
   "outputs": [
    {
     "name": "stdout",
     "output_type": "stream",
     "text": [
      "[0, 1, 2, 3, 4, 5, 6, 7, 8, 9, 10, 11]\n"
     ]
    }
   ],
   "source": [
    "# Show cup labels in list\n",
    "labels = list(range(no_cups))\n",
    "\n",
    "print(labels)"
   ]
  },
  {
   "cell_type": "code",
   "execution_count": 5,
   "metadata": {},
   "outputs": [
    {
     "name": "stdout",
     "output_type": "stream",
     "text": [
      "[(0, 1, 2, 3, 4, 5), (0, 1, 2, 3, 4, 6), (0, 1, 2, 3, 4, 7), (0, 1, 2, 3, 4, 8), (0, 1, 2, 3, 4, 9), (0, 1, 2, 3, 4, 10), (0, 1, 2, 3, 4, 11), (0, 1, 2, 3, 5, 6), (0, 1, 2, 3, 5, 7), (0, 1, 2, 3, 5, 8), (0, 1, 2, 3, 5, 9), (0, 1, 2, 3, 5, 10), (0, 1, 2, 3, 5, 11), (0, 1, 2, 3, 6, 7), (0, 1, 2, 3, 6, 8), (0, 1, 2, 3, 6, 9), (0, 1, 2, 3, 6, 10), (0, 1, 2, 3, 6, 11), (0, 1, 2, 3, 7, 8), (0, 1, 2, 3, 7, 9), (0, 1, 2, 3, 7, 10), (0, 1, 2, 3, 7, 11), (0, 1, 2, 3, 8, 9), (0, 1, 2, 3, 8, 10), (0, 1, 2, 3, 8, 11), (0, 1, 2, 3, 9, 10), (0, 1, 2, 3, 9, 11), (0, 1, 2, 3, 10, 11), (0, 1, 2, 4, 5, 6), (0, 1, 2, 4, 5, 7), (0, 1, 2, 4, 5, 8), (0, 1, 2, 4, 5, 9), (0, 1, 2, 4, 5, 10), (0, 1, 2, 4, 5, 11), (0, 1, 2, 4, 6, 7), (0, 1, 2, 4, 6, 8), (0, 1, 2, 4, 6, 9), (0, 1, 2, 4, 6, 10), (0, 1, 2, 4, 6, 11), (0, 1, 2, 4, 7, 8), (0, 1, 2, 4, 7, 9), (0, 1, 2, 4, 7, 10), (0, 1, 2, 4, 7, 11), (0, 1, 2, 4, 8, 9), (0, 1, 2, 4, 8, 10), (0, 1, 2, 4, 8, 11), (0, 1, 2, 4, 9, 10), (0, 1, 2, 4, 9, 11), (0, 1, 2, 4, 10, 11), (0, 1, 2, 5, 6, 7), (0, 1, 2, 5, 6, 8), (0, 1, 2, 5, 6, 9), (0, 1, 2, 5, 6, 10), (0, 1, 2, 5, 6, 11), (0, 1, 2, 5, 7, 8), (0, 1, 2, 5, 7, 9), (0, 1, 2, 5, 7, 10), (0, 1, 2, 5, 7, 11), (0, 1, 2, 5, 8, 9), (0, 1, 2, 5, 8, 10), (0, 1, 2, 5, 8, 11), (0, 1, 2, 5, 9, 10), (0, 1, 2, 5, 9, 11), (0, 1, 2, 5, 10, 11), (0, 1, 2, 6, 7, 8), (0, 1, 2, 6, 7, 9), (0, 1, 2, 6, 7, 10), (0, 1, 2, 6, 7, 11), (0, 1, 2, 6, 8, 9), (0, 1, 2, 6, 8, 10), (0, 1, 2, 6, 8, 11), (0, 1, 2, 6, 9, 10), (0, 1, 2, 6, 9, 11), (0, 1, 2, 6, 10, 11), (0, 1, 2, 7, 8, 9), (0, 1, 2, 7, 8, 10), (0, 1, 2, 7, 8, 11), (0, 1, 2, 7, 9, 10), (0, 1, 2, 7, 9, 11), (0, 1, 2, 7, 10, 11), (0, 1, 2, 8, 9, 10), (0, 1, 2, 8, 9, 11), (0, 1, 2, 8, 10, 11), (0, 1, 2, 9, 10, 11), (0, 1, 3, 4, 5, 6), (0, 1, 3, 4, 5, 7), (0, 1, 3, 4, 5, 8), (0, 1, 3, 4, 5, 9), (0, 1, 3, 4, 5, 10), (0, 1, 3, 4, 5, 11), (0, 1, 3, 4, 6, 7), (0, 1, 3, 4, 6, 8), (0, 1, 3, 4, 6, 9), (0, 1, 3, 4, 6, 10), (0, 1, 3, 4, 6, 11), (0, 1, 3, 4, 7, 8), (0, 1, 3, 4, 7, 9), (0, 1, 3, 4, 7, 10), (0, 1, 3, 4, 7, 11), (0, 1, 3, 4, 8, 9), (0, 1, 3, 4, 8, 10), (0, 1, 3, 4, 8, 11), (0, 1, 3, 4, 9, 10), (0, 1, 3, 4, 9, 11), (0, 1, 3, 4, 10, 11), (0, 1, 3, 5, 6, 7), (0, 1, 3, 5, 6, 8), (0, 1, 3, 5, 6, 9), (0, 1, 3, 5, 6, 10), (0, 1, 3, 5, 6, 11), (0, 1, 3, 5, 7, 8), (0, 1, 3, 5, 7, 9), (0, 1, 3, 5, 7, 10), (0, 1, 3, 5, 7, 11), (0, 1, 3, 5, 8, 9), (0, 1, 3, 5, 8, 10), (0, 1, 3, 5, 8, 11), (0, 1, 3, 5, 9, 10), (0, 1, 3, 5, 9, 11), (0, 1, 3, 5, 10, 11), (0, 1, 3, 6, 7, 8), (0, 1, 3, 6, 7, 9), (0, 1, 3, 6, 7, 10), (0, 1, 3, 6, 7, 11), (0, 1, 3, 6, 8, 9), (0, 1, 3, 6, 8, 10), (0, 1, 3, 6, 8, 11), (0, 1, 3, 6, 9, 10), (0, 1, 3, 6, 9, 11), (0, 1, 3, 6, 10, 11), (0, 1, 3, 7, 8, 9), (0, 1, 3, 7, 8, 10), (0, 1, 3, 7, 8, 11), (0, 1, 3, 7, 9, 10), (0, 1, 3, 7, 9, 11), (0, 1, 3, 7, 10, 11), (0, 1, 3, 8, 9, 10), (0, 1, 3, 8, 9, 11), (0, 1, 3, 8, 10, 11), (0, 1, 3, 9, 10, 11), (0, 1, 4, 5, 6, 7), (0, 1, 4, 5, 6, 8), (0, 1, 4, 5, 6, 9), (0, 1, 4, 5, 6, 10), (0, 1, 4, 5, 6, 11), (0, 1, 4, 5, 7, 8), (0, 1, 4, 5, 7, 9), (0, 1, 4, 5, 7, 10), (0, 1, 4, 5, 7, 11), (0, 1, 4, 5, 8, 9), (0, 1, 4, 5, 8, 10), (0, 1, 4, 5, 8, 11), (0, 1, 4, 5, 9, 10), (0, 1, 4, 5, 9, 11), (0, 1, 4, 5, 10, 11), (0, 1, 4, 6, 7, 8), (0, 1, 4, 6, 7, 9), (0, 1, 4, 6, 7, 10), (0, 1, 4, 6, 7, 11), (0, 1, 4, 6, 8, 9), (0, 1, 4, 6, 8, 10), (0, 1, 4, 6, 8, 11), (0, 1, 4, 6, 9, 10), (0, 1, 4, 6, 9, 11), (0, 1, 4, 6, 10, 11), (0, 1, 4, 7, 8, 9), (0, 1, 4, 7, 8, 10), (0, 1, 4, 7, 8, 11), (0, 1, 4, 7, 9, 10), (0, 1, 4, 7, 9, 11), (0, 1, 4, 7, 10, 11), (0, 1, 4, 8, 9, 10), (0, 1, 4, 8, 9, 11), (0, 1, 4, 8, 10, 11), (0, 1, 4, 9, 10, 11), (0, 1, 5, 6, 7, 8), (0, 1, 5, 6, 7, 9), (0, 1, 5, 6, 7, 10), (0, 1, 5, 6, 7, 11), (0, 1, 5, 6, 8, 9), (0, 1, 5, 6, 8, 10), (0, 1, 5, 6, 8, 11), (0, 1, 5, 6, 9, 10), (0, 1, 5, 6, 9, 11), (0, 1, 5, 6, 10, 11), (0, 1, 5, 7, 8, 9), (0, 1, 5, 7, 8, 10), (0, 1, 5, 7, 8, 11), (0, 1, 5, 7, 9, 10), (0, 1, 5, 7, 9, 11), (0, 1, 5, 7, 10, 11), (0, 1, 5, 8, 9, 10), (0, 1, 5, 8, 9, 11), (0, 1, 5, 8, 10, 11), (0, 1, 5, 9, 10, 11), (0, 1, 6, 7, 8, 9), (0, 1, 6, 7, 8, 10), (0, 1, 6, 7, 8, 11), (0, 1, 6, 7, 9, 10), (0, 1, 6, 7, 9, 11), (0, 1, 6, 7, 10, 11), (0, 1, 6, 8, 9, 10), (0, 1, 6, 8, 9, 11), (0, 1, 6, 8, 10, 11), (0, 1, 6, 9, 10, 11), (0, 1, 7, 8, 9, 10), (0, 1, 7, 8, 9, 11), (0, 1, 7, 8, 10, 11), (0, 1, 7, 9, 10, 11), (0, 1, 8, 9, 10, 11), (0, 2, 3, 4, 5, 6), (0, 2, 3, 4, 5, 7), (0, 2, 3, 4, 5, 8), (0, 2, 3, 4, 5, 9), (0, 2, 3, 4, 5, 10), (0, 2, 3, 4, 5, 11), (0, 2, 3, 4, 6, 7), (0, 2, 3, 4, 6, 8), (0, 2, 3, 4, 6, 9), (0, 2, 3, 4, 6, 10), (0, 2, 3, 4, 6, 11), (0, 2, 3, 4, 7, 8), (0, 2, 3, 4, 7, 9), (0, 2, 3, 4, 7, 10), (0, 2, 3, 4, 7, 11), (0, 2, 3, 4, 8, 9), (0, 2, 3, 4, 8, 10), (0, 2, 3, 4, 8, 11), (0, 2, 3, 4, 9, 10), (0, 2, 3, 4, 9, 11), (0, 2, 3, 4, 10, 11), (0, 2, 3, 5, 6, 7), (0, 2, 3, 5, 6, 8), (0, 2, 3, 5, 6, 9), (0, 2, 3, 5, 6, 10), (0, 2, 3, 5, 6, 11), (0, 2, 3, 5, 7, 8), (0, 2, 3, 5, 7, 9), (0, 2, 3, 5, 7, 10), (0, 2, 3, 5, 7, 11), (0, 2, 3, 5, 8, 9), (0, 2, 3, 5, 8, 10), (0, 2, 3, 5, 8, 11), (0, 2, 3, 5, 9, 10), (0, 2, 3, 5, 9, 11), (0, 2, 3, 5, 10, 11), (0, 2, 3, 6, 7, 8), (0, 2, 3, 6, 7, 9), (0, 2, 3, 6, 7, 10), (0, 2, 3, 6, 7, 11), (0, 2, 3, 6, 8, 9), (0, 2, 3, 6, 8, 10), (0, 2, 3, 6, 8, 11), (0, 2, 3, 6, 9, 10), (0, 2, 3, 6, 9, 11), (0, 2, 3, 6, 10, 11), (0, 2, 3, 7, 8, 9), (0, 2, 3, 7, 8, 10), (0, 2, 3, 7, 8, 11), (0, 2, 3, 7, 9, 10), (0, 2, 3, 7, 9, 11), (0, 2, 3, 7, 10, 11), (0, 2, 3, 8, 9, 10), (0, 2, 3, 8, 9, 11), (0, 2, 3, 8, 10, 11), (0, 2, 3, 9, 10, 11), (0, 2, 4, 5, 6, 7), (0, 2, 4, 5, 6, 8), (0, 2, 4, 5, 6, 9), (0, 2, 4, 5, 6, 10), (0, 2, 4, 5, 6, 11), (0, 2, 4, 5, 7, 8), (0, 2, 4, 5, 7, 9), (0, 2, 4, 5, 7, 10), (0, 2, 4, 5, 7, 11), (0, 2, 4, 5, 8, 9), (0, 2, 4, 5, 8, 10), (0, 2, 4, 5, 8, 11), (0, 2, 4, 5, 9, 10), (0, 2, 4, 5, 9, 11), (0, 2, 4, 5, 10, 11), (0, 2, 4, 6, 7, 8), (0, 2, 4, 6, 7, 9), (0, 2, 4, 6, 7, 10), (0, 2, 4, 6, 7, 11), (0, 2, 4, 6, 8, 9), (0, 2, 4, 6, 8, 10), (0, 2, 4, 6, 8, 11), (0, 2, 4, 6, 9, 10), (0, 2, 4, 6, 9, 11), (0, 2, 4, 6, 10, 11), (0, 2, 4, 7, 8, 9), (0, 2, 4, 7, 8, 10), (0, 2, 4, 7, 8, 11), (0, 2, 4, 7, 9, 10), (0, 2, 4, 7, 9, 11), (0, 2, 4, 7, 10, 11), (0, 2, 4, 8, 9, 10), (0, 2, 4, 8, 9, 11), (0, 2, 4, 8, 10, 11), (0, 2, 4, 9, 10, 11), (0, 2, 5, 6, 7, 8), (0, 2, 5, 6, 7, 9), (0, 2, 5, 6, 7, 10), (0, 2, 5, 6, 7, 11), (0, 2, 5, 6, 8, 9), (0, 2, 5, 6, 8, 10), (0, 2, 5, 6, 8, 11), (0, 2, 5, 6, 9, 10), (0, 2, 5, 6, 9, 11), (0, 2, 5, 6, 10, 11), (0, 2, 5, 7, 8, 9), (0, 2, 5, 7, 8, 10), (0, 2, 5, 7, 8, 11), (0, 2, 5, 7, 9, 10), (0, 2, 5, 7, 9, 11), (0, 2, 5, 7, 10, 11), (0, 2, 5, 8, 9, 10), (0, 2, 5, 8, 9, 11), (0, 2, 5, 8, 10, 11), (0, 2, 5, 9, 10, 11), (0, 2, 6, 7, 8, 9), (0, 2, 6, 7, 8, 10), (0, 2, 6, 7, 8, 11), (0, 2, 6, 7, 9, 10), (0, 2, 6, 7, 9, 11), (0, 2, 6, 7, 10, 11), (0, 2, 6, 8, 9, 10), (0, 2, 6, 8, 9, 11), (0, 2, 6, 8, 10, 11), (0, 2, 6, 9, 10, 11), (0, 2, 7, 8, 9, 10), (0, 2, 7, 8, 9, 11), (0, 2, 7, 8, 10, 11), (0, 2, 7, 9, 10, 11), (0, 2, 8, 9, 10, 11), (0, 3, 4, 5, 6, 7), (0, 3, 4, 5, 6, 8), (0, 3, 4, 5, 6, 9), (0, 3, 4, 5, 6, 10), (0, 3, 4, 5, 6, 11), (0, 3, 4, 5, 7, 8), (0, 3, 4, 5, 7, 9), (0, 3, 4, 5, 7, 10), (0, 3, 4, 5, 7, 11), (0, 3, 4, 5, 8, 9), (0, 3, 4, 5, 8, 10), (0, 3, 4, 5, 8, 11), (0, 3, 4, 5, 9, 10), (0, 3, 4, 5, 9, 11), (0, 3, 4, 5, 10, 11), (0, 3, 4, 6, 7, 8), (0, 3, 4, 6, 7, 9), (0, 3, 4, 6, 7, 10), (0, 3, 4, 6, 7, 11), (0, 3, 4, 6, 8, 9), (0, 3, 4, 6, 8, 10), (0, 3, 4, 6, 8, 11), (0, 3, 4, 6, 9, 10), (0, 3, 4, 6, 9, 11), (0, 3, 4, 6, 10, 11), (0, 3, 4, 7, 8, 9), (0, 3, 4, 7, 8, 10), (0, 3, 4, 7, 8, 11), (0, 3, 4, 7, 9, 10), (0, 3, 4, 7, 9, 11), (0, 3, 4, 7, 10, 11), (0, 3, 4, 8, 9, 10), (0, 3, 4, 8, 9, 11), (0, 3, 4, 8, 10, 11), (0, 3, 4, 9, 10, 11), (0, 3, 5, 6, 7, 8), (0, 3, 5, 6, 7, 9), (0, 3, 5, 6, 7, 10), (0, 3, 5, 6, 7, 11), (0, 3, 5, 6, 8, 9), (0, 3, 5, 6, 8, 10), (0, 3, 5, 6, 8, 11), (0, 3, 5, 6, 9, 10), (0, 3, 5, 6, 9, 11), (0, 3, 5, 6, 10, 11), (0, 3, 5, 7, 8, 9), (0, 3, 5, 7, 8, 10), (0, 3, 5, 7, 8, 11), (0, 3, 5, 7, 9, 10), (0, 3, 5, 7, 9, 11), (0, 3, 5, 7, 10, 11), (0, 3, 5, 8, 9, 10), (0, 3, 5, 8, 9, 11), (0, 3, 5, 8, 10, 11), (0, 3, 5, 9, 10, 11), (0, 3, 6, 7, 8, 9), (0, 3, 6, 7, 8, 10), (0, 3, 6, 7, 8, 11), (0, 3, 6, 7, 9, 10), (0, 3, 6, 7, 9, 11), (0, 3, 6, 7, 10, 11), (0, 3, 6, 8, 9, 10), (0, 3, 6, 8, 9, 11), (0, 3, 6, 8, 10, 11), (0, 3, 6, 9, 10, 11), (0, 3, 7, 8, 9, 10), (0, 3, 7, 8, 9, 11), (0, 3, 7, 8, 10, 11), (0, 3, 7, 9, 10, 11), (0, 3, 8, 9, 10, 11), (0, 4, 5, 6, 7, 8), (0, 4, 5, 6, 7, 9), (0, 4, 5, 6, 7, 10), (0, 4, 5, 6, 7, 11), (0, 4, 5, 6, 8, 9), (0, 4, 5, 6, 8, 10), (0, 4, 5, 6, 8, 11), (0, 4, 5, 6, 9, 10), (0, 4, 5, 6, 9, 11), (0, 4, 5, 6, 10, 11), (0, 4, 5, 7, 8, 9), (0, 4, 5, 7, 8, 10), (0, 4, 5, 7, 8, 11), (0, 4, 5, 7, 9, 10), (0, 4, 5, 7, 9, 11), (0, 4, 5, 7, 10, 11), (0, 4, 5, 8, 9, 10), (0, 4, 5, 8, 9, 11), (0, 4, 5, 8, 10, 11), (0, 4, 5, 9, 10, 11), (0, 4, 6, 7, 8, 9), (0, 4, 6, 7, 8, 10), (0, 4, 6, 7, 8, 11), (0, 4, 6, 7, 9, 10), (0, 4, 6, 7, 9, 11), (0, 4, 6, 7, 10, 11), (0, 4, 6, 8, 9, 10), (0, 4, 6, 8, 9, 11), (0, 4, 6, 8, 10, 11), (0, 4, 6, 9, 10, 11), (0, 4, 7, 8, 9, 10), (0, 4, 7, 8, 9, 11), (0, 4, 7, 8, 10, 11), (0, 4, 7, 9, 10, 11), (0, 4, 8, 9, 10, 11), (0, 5, 6, 7, 8, 9), (0, 5, 6, 7, 8, 10), (0, 5, 6, 7, 8, 11), (0, 5, 6, 7, 9, 10), (0, 5, 6, 7, 9, 11), (0, 5, 6, 7, 10, 11), (0, 5, 6, 8, 9, 10), (0, 5, 6, 8, 9, 11), (0, 5, 6, 8, 10, 11), (0, 5, 6, 9, 10, 11), (0, 5, 7, 8, 9, 10), (0, 5, 7, 8, 9, 11), (0, 5, 7, 8, 10, 11), (0, 5, 7, 9, 10, 11), (0, 5, 8, 9, 10, 11), (0, 6, 7, 8, 9, 10), (0, 6, 7, 8, 9, 11), (0, 6, 7, 8, 10, 11), (0, 6, 7, 9, 10, 11), (0, 6, 8, 9, 10, 11), (0, 7, 8, 9, 10, 11), (1, 2, 3, 4, 5, 6), (1, 2, 3, 4, 5, 7), (1, 2, 3, 4, 5, 8), (1, 2, 3, 4, 5, 9), (1, 2, 3, 4, 5, 10), (1, 2, 3, 4, 5, 11), (1, 2, 3, 4, 6, 7), (1, 2, 3, 4, 6, 8), (1, 2, 3, 4, 6, 9), (1, 2, 3, 4, 6, 10), (1, 2, 3, 4, 6, 11), (1, 2, 3, 4, 7, 8), (1, 2, 3, 4, 7, 9), (1, 2, 3, 4, 7, 10), (1, 2, 3, 4, 7, 11), (1, 2, 3, 4, 8, 9), (1, 2, 3, 4, 8, 10), (1, 2, 3, 4, 8, 11), (1, 2, 3, 4, 9, 10), (1, 2, 3, 4, 9, 11), (1, 2, 3, 4, 10, 11), (1, 2, 3, 5, 6, 7), (1, 2, 3, 5, 6, 8), (1, 2, 3, 5, 6, 9), (1, 2, 3, 5, 6, 10), (1, 2, 3, 5, 6, 11), (1, 2, 3, 5, 7, 8), (1, 2, 3, 5, 7, 9), (1, 2, 3, 5, 7, 10), (1, 2, 3, 5, 7, 11), (1, 2, 3, 5, 8, 9), (1, 2, 3, 5, 8, 10), (1, 2, 3, 5, 8, 11), (1, 2, 3, 5, 9, 10), (1, 2, 3, 5, 9, 11), (1, 2, 3, 5, 10, 11), (1, 2, 3, 6, 7, 8), (1, 2, 3, 6, 7, 9), (1, 2, 3, 6, 7, 10), (1, 2, 3, 6, 7, 11), (1, 2, 3, 6, 8, 9), (1, 2, 3, 6, 8, 10), (1, 2, 3, 6, 8, 11), (1, 2, 3, 6, 9, 10), (1, 2, 3, 6, 9, 11), (1, 2, 3, 6, 10, 11), (1, 2, 3, 7, 8, 9), (1, 2, 3, 7, 8, 10), (1, 2, 3, 7, 8, 11), (1, 2, 3, 7, 9, 10), (1, 2, 3, 7, 9, 11), (1, 2, 3, 7, 10, 11), (1, 2, 3, 8, 9, 10), (1, 2, 3, 8, 9, 11), (1, 2, 3, 8, 10, 11), (1, 2, 3, 9, 10, 11), (1, 2, 4, 5, 6, 7), (1, 2, 4, 5, 6, 8), (1, 2, 4, 5, 6, 9), (1, 2, 4, 5, 6, 10), (1, 2, 4, 5, 6, 11), (1, 2, 4, 5, 7, 8), (1, 2, 4, 5, 7, 9), (1, 2, 4, 5, 7, 10), (1, 2, 4, 5, 7, 11), (1, 2, 4, 5, 8, 9), (1, 2, 4, 5, 8, 10), (1, 2, 4, 5, 8, 11), (1, 2, 4, 5, 9, 10), (1, 2, 4, 5, 9, 11), (1, 2, 4, 5, 10, 11), (1, 2, 4, 6, 7, 8), (1, 2, 4, 6, 7, 9), (1, 2, 4, 6, 7, 10), (1, 2, 4, 6, 7, 11), (1, 2, 4, 6, 8, 9), (1, 2, 4, 6, 8, 10), (1, 2, 4, 6, 8, 11), (1, 2, 4, 6, 9, 10), (1, 2, 4, 6, 9, 11), (1, 2, 4, 6, 10, 11), (1, 2, 4, 7, 8, 9), (1, 2, 4, 7, 8, 10), (1, 2, 4, 7, 8, 11), (1, 2, 4, 7, 9, 10), (1, 2, 4, 7, 9, 11), (1, 2, 4, 7, 10, 11), (1, 2, 4, 8, 9, 10), (1, 2, 4, 8, 9, 11), (1, 2, 4, 8, 10, 11), (1, 2, 4, 9, 10, 11), (1, 2, 5, 6, 7, 8), (1, 2, 5, 6, 7, 9), (1, 2, 5, 6, 7, 10), (1, 2, 5, 6, 7, 11), (1, 2, 5, 6, 8, 9), (1, 2, 5, 6, 8, 10), (1, 2, 5, 6, 8, 11), (1, 2, 5, 6, 9, 10), (1, 2, 5, 6, 9, 11), (1, 2, 5, 6, 10, 11), (1, 2, 5, 7, 8, 9), (1, 2, 5, 7, 8, 10), (1, 2, 5, 7, 8, 11), (1, 2, 5, 7, 9, 10), (1, 2, 5, 7, 9, 11), (1, 2, 5, 7, 10, 11), (1, 2, 5, 8, 9, 10), (1, 2, 5, 8, 9, 11), (1, 2, 5, 8, 10, 11), (1, 2, 5, 9, 10, 11), (1, 2, 6, 7, 8, 9), (1, 2, 6, 7, 8, 10), (1, 2, 6, 7, 8, 11), (1, 2, 6, 7, 9, 10), (1, 2, 6, 7, 9, 11), (1, 2, 6, 7, 10, 11), (1, 2, 6, 8, 9, 10), (1, 2, 6, 8, 9, 11), (1, 2, 6, 8, 10, 11), (1, 2, 6, 9, 10, 11), (1, 2, 7, 8, 9, 10), (1, 2, 7, 8, 9, 11), (1, 2, 7, 8, 10, 11), (1, 2, 7, 9, 10, 11), (1, 2, 8, 9, 10, 11), (1, 3, 4, 5, 6, 7), (1, 3, 4, 5, 6, 8), (1, 3, 4, 5, 6, 9), (1, 3, 4, 5, 6, 10), (1, 3, 4, 5, 6, 11), (1, 3, 4, 5, 7, 8), (1, 3, 4, 5, 7, 9), (1, 3, 4, 5, 7, 10), (1, 3, 4, 5, 7, 11), (1, 3, 4, 5, 8, 9), (1, 3, 4, 5, 8, 10), (1, 3, 4, 5, 8, 11), (1, 3, 4, 5, 9, 10), (1, 3, 4, 5, 9, 11), (1, 3, 4, 5, 10, 11), (1, 3, 4, 6, 7, 8), (1, 3, 4, 6, 7, 9), (1, 3, 4, 6, 7, 10), (1, 3, 4, 6, 7, 11), (1, 3, 4, 6, 8, 9), (1, 3, 4, 6, 8, 10), (1, 3, 4, 6, 8, 11), (1, 3, 4, 6, 9, 10), (1, 3, 4, 6, 9, 11), (1, 3, 4, 6, 10, 11), (1, 3, 4, 7, 8, 9), (1, 3, 4, 7, 8, 10), (1, 3, 4, 7, 8, 11), (1, 3, 4, 7, 9, 10), (1, 3, 4, 7, 9, 11), (1, 3, 4, 7, 10, 11), (1, 3, 4, 8, 9, 10), (1, 3, 4, 8, 9, 11), (1, 3, 4, 8, 10, 11), (1, 3, 4, 9, 10, 11), (1, 3, 5, 6, 7, 8), (1, 3, 5, 6, 7, 9), (1, 3, 5, 6, 7, 10), (1, 3, 5, 6, 7, 11), (1, 3, 5, 6, 8, 9), (1, 3, 5, 6, 8, 10), (1, 3, 5, 6, 8, 11), (1, 3, 5, 6, 9, 10), (1, 3, 5, 6, 9, 11), (1, 3, 5, 6, 10, 11), (1, 3, 5, 7, 8, 9), (1, 3, 5, 7, 8, 10), (1, 3, 5, 7, 8, 11), (1, 3, 5, 7, 9, 10), (1, 3, 5, 7, 9, 11), (1, 3, 5, 7, 10, 11), (1, 3, 5, 8, 9, 10), (1, 3, 5, 8, 9, 11), (1, 3, 5, 8, 10, 11), (1, 3, 5, 9, 10, 11), (1, 3, 6, 7, 8, 9), (1, 3, 6, 7, 8, 10), (1, 3, 6, 7, 8, 11), (1, 3, 6, 7, 9, 10), (1, 3, 6, 7, 9, 11), (1, 3, 6, 7, 10, 11), (1, 3, 6, 8, 9, 10), (1, 3, 6, 8, 9, 11), (1, 3, 6, 8, 10, 11), (1, 3, 6, 9, 10, 11), (1, 3, 7, 8, 9, 10), (1, 3, 7, 8, 9, 11), (1, 3, 7, 8, 10, 11), (1, 3, 7, 9, 10, 11), (1, 3, 8, 9, 10, 11), (1, 4, 5, 6, 7, 8), (1, 4, 5, 6, 7, 9), (1, 4, 5, 6, 7, 10), (1, 4, 5, 6, 7, 11), (1, 4, 5, 6, 8, 9), (1, 4, 5, 6, 8, 10), (1, 4, 5, 6, 8, 11), (1, 4, 5, 6, 9, 10), (1, 4, 5, 6, 9, 11), (1, 4, 5, 6, 10, 11), (1, 4, 5, 7, 8, 9), (1, 4, 5, 7, 8, 10), (1, 4, 5, 7, 8, 11), (1, 4, 5, 7, 9, 10), (1, 4, 5, 7, 9, 11), (1, 4, 5, 7, 10, 11), (1, 4, 5, 8, 9, 10), (1, 4, 5, 8, 9, 11), (1, 4, 5, 8, 10, 11), (1, 4, 5, 9, 10, 11), (1, 4, 6, 7, 8, 9), (1, 4, 6, 7, 8, 10), (1, 4, 6, 7, 8, 11), (1, 4, 6, 7, 9, 10), (1, 4, 6, 7, 9, 11), (1, 4, 6, 7, 10, 11), (1, 4, 6, 8, 9, 10), (1, 4, 6, 8, 9, 11), (1, 4, 6, 8, 10, 11), (1, 4, 6, 9, 10, 11), (1, 4, 7, 8, 9, 10), (1, 4, 7, 8, 9, 11), (1, 4, 7, 8, 10, 11), (1, 4, 7, 9, 10, 11), (1, 4, 8, 9, 10, 11), (1, 5, 6, 7, 8, 9), (1, 5, 6, 7, 8, 10), (1, 5, 6, 7, 8, 11), (1, 5, 6, 7, 9, 10), (1, 5, 6, 7, 9, 11), (1, 5, 6, 7, 10, 11), (1, 5, 6, 8, 9, 10), (1, 5, 6, 8, 9, 11), (1, 5, 6, 8, 10, 11), (1, 5, 6, 9, 10, 11), (1, 5, 7, 8, 9, 10), (1, 5, 7, 8, 9, 11), (1, 5, 7, 8, 10, 11), (1, 5, 7, 9, 10, 11), (1, 5, 8, 9, 10, 11), (1, 6, 7, 8, 9, 10), (1, 6, 7, 8, 9, 11), (1, 6, 7, 8, 10, 11), (1, 6, 7, 9, 10, 11), (1, 6, 8, 9, 10, 11), (1, 7, 8, 9, 10, 11), (2, 3, 4, 5, 6, 7), (2, 3, 4, 5, 6, 8), (2, 3, 4, 5, 6, 9), (2, 3, 4, 5, 6, 10), (2, 3, 4, 5, 6, 11), (2, 3, 4, 5, 7, 8), (2, 3, 4, 5, 7, 9), (2, 3, 4, 5, 7, 10), (2, 3, 4, 5, 7, 11), (2, 3, 4, 5, 8, 9), (2, 3, 4, 5, 8, 10), (2, 3, 4, 5, 8, 11), (2, 3, 4, 5, 9, 10), (2, 3, 4, 5, 9, 11), (2, 3, 4, 5, 10, 11), (2, 3, 4, 6, 7, 8), (2, 3, 4, 6, 7, 9), (2, 3, 4, 6, 7, 10), (2, 3, 4, 6, 7, 11), (2, 3, 4, 6, 8, 9), (2, 3, 4, 6, 8, 10), (2, 3, 4, 6, 8, 11), (2, 3, 4, 6, 9, 10), (2, 3, 4, 6, 9, 11), (2, 3, 4, 6, 10, 11), (2, 3, 4, 7, 8, 9), (2, 3, 4, 7, 8, 10), (2, 3, 4, 7, 8, 11), (2, 3, 4, 7, 9, 10), (2, 3, 4, 7, 9, 11), (2, 3, 4, 7, 10, 11), (2, 3, 4, 8, 9, 10), (2, 3, 4, 8, 9, 11), (2, 3, 4, 8, 10, 11), (2, 3, 4, 9, 10, 11), (2, 3, 5, 6, 7, 8), (2, 3, 5, 6, 7, 9), (2, 3, 5, 6, 7, 10), (2, 3, 5, 6, 7, 11), (2, 3, 5, 6, 8, 9), (2, 3, 5, 6, 8, 10), (2, 3, 5, 6, 8, 11), (2, 3, 5, 6, 9, 10), (2, 3, 5, 6, 9, 11), (2, 3, 5, 6, 10, 11), (2, 3, 5, 7, 8, 9), (2, 3, 5, 7, 8, 10), (2, 3, 5, 7, 8, 11), (2, 3, 5, 7, 9, 10), (2, 3, 5, 7, 9, 11), (2, 3, 5, 7, 10, 11), (2, 3, 5, 8, 9, 10), (2, 3, 5, 8, 9, 11), (2, 3, 5, 8, 10, 11), (2, 3, 5, 9, 10, 11), (2, 3, 6, 7, 8, 9), (2, 3, 6, 7, 8, 10), (2, 3, 6, 7, 8, 11), (2, 3, 6, 7, 9, 10), (2, 3, 6, 7, 9, 11), (2, 3, 6, 7, 10, 11), (2, 3, 6, 8, 9, 10), (2, 3, 6, 8, 9, 11), (2, 3, 6, 8, 10, 11), (2, 3, 6, 9, 10, 11), (2, 3, 7, 8, 9, 10), (2, 3, 7, 8, 9, 11), (2, 3, 7, 8, 10, 11), (2, 3, 7, 9, 10, 11), (2, 3, 8, 9, 10, 11), (2, 4, 5, 6, 7, 8), (2, 4, 5, 6, 7, 9), (2, 4, 5, 6, 7, 10), (2, 4, 5, 6, 7, 11), (2, 4, 5, 6, 8, 9), (2, 4, 5, 6, 8, 10), (2, 4, 5, 6, 8, 11), (2, 4, 5, 6, 9, 10), (2, 4, 5, 6, 9, 11), (2, 4, 5, 6, 10, 11), (2, 4, 5, 7, 8, 9), (2, 4, 5, 7, 8, 10), (2, 4, 5, 7, 8, 11), (2, 4, 5, 7, 9, 10), (2, 4, 5, 7, 9, 11), (2, 4, 5, 7, 10, 11), (2, 4, 5, 8, 9, 10), (2, 4, 5, 8, 9, 11), (2, 4, 5, 8, 10, 11), (2, 4, 5, 9, 10, 11), (2, 4, 6, 7, 8, 9), (2, 4, 6, 7, 8, 10), (2, 4, 6, 7, 8, 11), (2, 4, 6, 7, 9, 10), (2, 4, 6, 7, 9, 11), (2, 4, 6, 7, 10, 11), (2, 4, 6, 8, 9, 10), (2, 4, 6, 8, 9, 11), (2, 4, 6, 8, 10, 11), (2, 4, 6, 9, 10, 11), (2, 4, 7, 8, 9, 10), (2, 4, 7, 8, 9, 11), (2, 4, 7, 8, 10, 11), (2, 4, 7, 9, 10, 11), (2, 4, 8, 9, 10, 11), (2, 5, 6, 7, 8, 9), (2, 5, 6, 7, 8, 10), (2, 5, 6, 7, 8, 11), (2, 5, 6, 7, 9, 10), (2, 5, 6, 7, 9, 11), (2, 5, 6, 7, 10, 11), (2, 5, 6, 8, 9, 10), (2, 5, 6, 8, 9, 11), (2, 5, 6, 8, 10, 11), (2, 5, 6, 9, 10, 11), (2, 5, 7, 8, 9, 10), (2, 5, 7, 8, 9, 11), (2, 5, 7, 8, 10, 11), (2, 5, 7, 9, 10, 11), (2, 5, 8, 9, 10, 11), (2, 6, 7, 8, 9, 10), (2, 6, 7, 8, 9, 11), (2, 6, 7, 8, 10, 11), (2, 6, 7, 9, 10, 11), (2, 6, 8, 9, 10, 11), (2, 7, 8, 9, 10, 11), (3, 4, 5, 6, 7, 8), (3, 4, 5, 6, 7, 9), (3, 4, 5, 6, 7, 10), (3, 4, 5, 6, 7, 11), (3, 4, 5, 6, 8, 9), (3, 4, 5, 6, 8, 10), (3, 4, 5, 6, 8, 11), (3, 4, 5, 6, 9, 10), (3, 4, 5, 6, 9, 11), (3, 4, 5, 6, 10, 11), (3, 4, 5, 7, 8, 9), (3, 4, 5, 7, 8, 10), (3, 4, 5, 7, 8, 11), (3, 4, 5, 7, 9, 10), (3, 4, 5, 7, 9, 11), (3, 4, 5, 7, 10, 11), (3, 4, 5, 8, 9, 10), (3, 4, 5, 8, 9, 11), (3, 4, 5, 8, 10, 11), (3, 4, 5, 9, 10, 11), (3, 4, 6, 7, 8, 9), (3, 4, 6, 7, 8, 10), (3, 4, 6, 7, 8, 11), (3, 4, 6, 7, 9, 10), (3, 4, 6, 7, 9, 11), (3, 4, 6, 7, 10, 11), (3, 4, 6, 8, 9, 10), (3, 4, 6, 8, 9, 11), (3, 4, 6, 8, 10, 11), (3, 4, 6, 9, 10, 11), (3, 4, 7, 8, 9, 10), (3, 4, 7, 8, 9, 11), (3, 4, 7, 8, 10, 11), (3, 4, 7, 9, 10, 11), (3, 4, 8, 9, 10, 11), (3, 5, 6, 7, 8, 9), (3, 5, 6, 7, 8, 10), (3, 5, 6, 7, 8, 11), (3, 5, 6, 7, 9, 10), (3, 5, 6, 7, 9, 11), (3, 5, 6, 7, 10, 11), (3, 5, 6, 8, 9, 10), (3, 5, 6, 8, 9, 11), (3, 5, 6, 8, 10, 11), (3, 5, 6, 9, 10, 11), (3, 5, 7, 8, 9, 10), (3, 5, 7, 8, 9, 11), (3, 5, 7, 8, 10, 11), (3, 5, 7, 9, 10, 11), (3, 5, 8, 9, 10, 11), (3, 6, 7, 8, 9, 10), (3, 6, 7, 8, 9, 11), (3, 6, 7, 8, 10, 11), (3, 6, 7, 9, 10, 11), (3, 6, 8, 9, 10, 11), (3, 7, 8, 9, 10, 11), (4, 5, 6, 7, 8, 9), (4, 5, 6, 7, 8, 10), (4, 5, 6, 7, 8, 11), (4, 5, 6, 7, 9, 10), (4, 5, 6, 7, 9, 11), (4, 5, 6, 7, 10, 11), (4, 5, 6, 8, 9, 10), (4, 5, 6, 8, 9, 11), (4, 5, 6, 8, 10, 11), (4, 5, 6, 9, 10, 11), (4, 5, 7, 8, 9, 10), (4, 5, 7, 8, 9, 11), (4, 5, 7, 8, 10, 11), (4, 5, 7, 9, 10, 11), (4, 5, 8, 9, 10, 11), (4, 6, 7, 8, 9, 10), (4, 6, 7, 8, 9, 11), (4, 6, 7, 8, 10, 11), (4, 6, 7, 9, 10, 11), (4, 6, 8, 9, 10, 11), (4, 7, 8, 9, 10, 11), (5, 6, 7, 8, 9, 10), (5, 6, 7, 8, 9, 11), (5, 6, 7, 8, 10, 11), (5, 6, 7, 9, 10, 11), (5, 6, 8, 9, 10, 11), (5, 7, 8, 9, 10, 11), (6, 7, 8, 9, 10, 11)]\n"
     ]
    }
   ],
   "source": [
    "# Show different ways of selecting no_cups_milk_first.\n",
    "combs = list(itertools.combinations(labels, no_cups_milk_first))\n",
    "print(combs)"
   ]
  },
  {
   "cell_type": "code",
   "execution_count": 6,
   "metadata": {},
   "outputs": [
    {
     "name": "stdout",
     "output_type": "stream",
     "text": [
      "[0, 1, 2, 3, 4, 9]\n"
     ]
    }
   ],
   "source": [
    "# Select six cups at random to put milk in first.\n",
    "\n",
    "labels_milk = random.sample(labels, 6)\n",
    "\n",
    "# Sort to print labels in order\n",
    "labels_milk.sort()\n",
    "\n",
    "print(labels_milk)"
   ]
  },
  {
   "cell_type": "markdown",
   "metadata": {},
   "source": [
    "We now need to calculate the overlap between combs and labels_milk.  We can use the data structure \"set\" to achieve this, as it allows us to determine the intersection between two sets."
   ]
  },
  {
   "cell_type": "code",
   "execution_count": 7,
   "metadata": {},
   "outputs": [
    {
     "name": "stdout",
     "output_type": "stream",
     "text": [
      "{0, 1, 2, 3, 4, 9}\n"
     ]
    }
   ],
   "source": [
    "# Change labels_milk from a list into a set.\n",
    "\n",
    "print(set(labels_milk))"
   ]
  },
  {
   "cell_type": "code",
   "execution_count": 8,
   "metadata": {},
   "outputs": [],
   "source": [
    "# Calculate overlap between each element of combs and labels_milk\n",
    "\n",
    "no_overlaps = []\n",
    "\n",
    "for comb in combs:\n",
    "  # Turn comb into a set.\n",
    "  s1 = set(comb)\n",
    "  # Turn labels_milk into a set.\n",
    "  s2 = set(labels_milk)\n",
    "  # Figure out where they overlap using intersection.\n",
    "  overlap = s1.intersection(s2)\n",
    "  # Append overlap to no_overlaps.\n",
    "  no_overlaps.append(len(overlap))"
   ]
  },
  {
   "cell_type": "code",
   "execution_count": 9,
   "metadata": {},
   "outputs": [
    {
     "name": "stdout",
     "output_type": "stream",
     "text": [
      "[5, 5, 5, 5, 6, 5, 5, 4, 4, 4, 5, 4, 4, 4, 4, 5, 4, 4, 4, 5, 4, 4, 5, 4, 4, 5, 5, 4, 4, 4, 4, 5, 4, 4, 4, 4, 5, 4, 4, 4, 5, 4, 4, 5, 4, 4, 5, 5, 4, 3, 3, 4, 3, 3, 3, 4, 3, 3, 4, 3, 3, 4, 4, 3, 3, 4, 3, 3, 4, 3, 3, 4, 4, 3, 4, 3, 3, 4, 4, 3, 4, 4, 3, 4, 4, 4, 4, 5, 4, 4, 4, 4, 5, 4, 4, 4, 5, 4, 4, 5, 4, 4, 5, 5, 4, 3, 3, 4, 3, 3, 3, 4, 3, 3, 4, 3, 3, 4, 4, 3, 3, 4, 3, 3, 4, 3, 3, 4, 4, 3, 4, 3, 3, 4, 4, 3, 4, 4, 3, 4, 3, 3, 4, 3, 3, 3, 4, 3, 3, 4, 3, 3, 4, 4, 3, 3, 4, 3, 3, 4, 3, 3, 4, 4, 3, 4, 3, 3, 4, 4, 3, 4, 4, 3, 4, 2, 3, 2, 2, 3, 2, 2, 3, 3, 2, 3, 2, 2, 3, 3, 2, 3, 3, 2, 3, 3, 2, 2, 3, 3, 2, 3, 3, 2, 3, 3, 3, 2, 3, 3, 4, 4, 4, 5, 4, 4, 4, 4, 5, 4, 4, 4, 5, 4, 4, 5, 4, 4, 5, 5, 4, 3, 3, 4, 3, 3, 3, 4, 3, 3, 4, 3, 3, 4, 4, 3, 3, 4, 3, 3, 4, 3, 3, 4, 4, 3, 4, 3, 3, 4, 4, 3, 4, 4, 3, 4, 3, 3, 4, 3, 3, 3, 4, 3, 3, 4, 3, 3, 4, 4, 3, 3, 4, 3, 3, 4, 3, 3, 4, 4, 3, 4, 3, 3, 4, 4, 3, 4, 4, 3, 4, 2, 3, 2, 2, 3, 2, 2, 3, 3, 2, 3, 2, 2, 3, 3, 2, 3, 3, 2, 3, 3, 2, 2, 3, 3, 2, 3, 3, 2, 3, 3, 3, 2, 3, 3, 3, 3, 4, 3, 3, 3, 4, 3, 3, 4, 3, 3, 4, 4, 3, 3, 4, 3, 3, 4, 3, 3, 4, 4, 3, 4, 3, 3, 4, 4, 3, 4, 4, 3, 4, 2, 3, 2, 2, 3, 2, 2, 3, 3, 2, 3, 2, 2, 3, 3, 2, 3, 3, 2, 3, 3, 2, 2, 3, 3, 2, 3, 3, 2, 3, 3, 3, 2, 3, 3, 2, 3, 2, 2, 3, 2, 2, 3, 3, 2, 3, 2, 2, 3, 3, 2, 3, 3, 2, 3, 3, 2, 2, 3, 3, 2, 3, 3, 2, 3, 3, 3, 2, 3, 3, 2, 1, 1, 2, 2, 1, 2, 2, 1, 2, 2, 2, 1, 2, 2, 2, 2, 1, 2, 2, 2, 4, 4, 4, 5, 4, 4, 4, 4, 5, 4, 4, 4, 5, 4, 4, 5, 4, 4, 5, 5, 4, 3, 3, 4, 3, 3, 3, 4, 3, 3, 4, 3, 3, 4, 4, 3, 3, 4, 3, 3, 4, 3, 3, 4, 4, 3, 4, 3, 3, 4, 4, 3, 4, 4, 3, 4, 3, 3, 4, 3, 3, 3, 4, 3, 3, 4, 3, 3, 4, 4, 3, 3, 4, 3, 3, 4, 3, 3, 4, 4, 3, 4, 3, 3, 4, 4, 3, 4, 4, 3, 4, 2, 3, 2, 2, 3, 2, 2, 3, 3, 2, 3, 2, 2, 3, 3, 2, 3, 3, 2, 3, 3, 2, 2, 3, 3, 2, 3, 3, 2, 3, 3, 3, 2, 3, 3, 3, 3, 4, 3, 3, 3, 4, 3, 3, 4, 3, 3, 4, 4, 3, 3, 4, 3, 3, 4, 3, 3, 4, 4, 3, 4, 3, 3, 4, 4, 3, 4, 4, 3, 4, 2, 3, 2, 2, 3, 2, 2, 3, 3, 2, 3, 2, 2, 3, 3, 2, 3, 3, 2, 3, 3, 2, 2, 3, 3, 2, 3, 3, 2, 3, 3, 3, 2, 3, 3, 2, 3, 2, 2, 3, 2, 2, 3, 3, 2, 3, 2, 2, 3, 3, 2, 3, 3, 2, 3, 3, 2, 2, 3, 3, 2, 3, 3, 2, 3, 3, 3, 2, 3, 3, 2, 1, 1, 2, 2, 1, 2, 2, 1, 2, 2, 2, 1, 2, 2, 2, 2, 1, 2, 2, 2, 3, 3, 4, 3, 3, 3, 4, 3, 3, 4, 3, 3, 4, 4, 3, 3, 4, 3, 3, 4, 3, 3, 4, 4, 3, 4, 3, 3, 4, 4, 3, 4, 4, 3, 4, 2, 3, 2, 2, 3, 2, 2, 3, 3, 2, 3, 2, 2, 3, 3, 2, 3, 3, 2, 3, 3, 2, 2, 3, 3, 2, 3, 3, 2, 3, 3, 3, 2, 3, 3, 2, 3, 2, 2, 3, 2, 2, 3, 3, 2, 3, 2, 2, 3, 3, 2, 3, 3, 2, 3, 3, 2, 2, 3, 3, 2, 3, 3, 2, 3, 3, 3, 2, 3, 3, 2, 1, 1, 2, 2, 1, 2, 2, 1, 2, 2, 2, 1, 2, 2, 2, 2, 1, 2, 2, 2, 2, 3, 2, 2, 3, 2, 2, 3, 3, 2, 3, 2, 2, 3, 3, 2, 3, 3, 2, 3, 3, 2, 2, 3, 3, 2, 3, 3, 2, 3, 3, 3, 2, 3, 3, 2, 1, 1, 2, 2, 1, 2, 2, 1, 2, 2, 2, 1, 2, 2, 2, 2, 1, 2, 2, 2, 2, 1, 1, 2, 2, 1, 2, 2, 1, 2, 2, 2, 1, 2, 2, 2, 2, 1, 2, 2, 2, 1, 1, 0, 1, 1, 1, 1]\n"
     ]
    }
   ],
   "source": [
    "# Display overlaps\n",
    "print(no_overlaps)"
   ]
  },
  {
   "cell_type": "markdown",
   "metadata": {},
   "source": [
    "Taking the above data into account, we can use numpy's \"unique\" function to determine how many different ways there are to select zero correct choices out of six, one out of six, two out of six... et cetera."
   ]
  },
  {
   "cell_type": "code",
   "execution_count": 10,
   "metadata": {},
   "outputs": [
    {
     "data": {
      "text/plain": [
       "(array([0, 1, 2, 3, 4, 5, 6]),\n",
       " array([  1,  36, 225, 400, 225,  36,   1], dtype=int64))"
      ]
     },
     "execution_count": 10,
     "metadata": {},
     "output_type": "execute_result"
    }
   ],
   "source": [
    "# Count number of times each overlap occurs using numpy's unique function\n",
    "# https://numpy.org/doc/stable/reference/generated/numpy.unique.html#numpy-unique\n",
    "\n",
    "counts = np.unique(no_overlaps, return_counts=True)\n",
    "\n",
    "# Display\n",
    "counts"
   ]
  },
  {
   "cell_type": "markdown",
   "metadata": {},
   "source": [
    "What the above array illustrates is that while there is only one way of selecting the correct six cups, there are 36 ways of selecting six choices with five overlaps (i.e. with one error). To calculate the probability of randomly selecting at least 5 correct cups out of 12, we need to sum the probabilities of selecting exactly 5 or 6 correct cups. In other words, we add 36 (five correct choices) to 1 (six correct choices) and divide this number by 924."
   ]
  },
  {
   "cell_type": "code",
   "execution_count": 11,
   "metadata": {},
   "outputs": [
    {
     "data": {
      "text/plain": [
       "0.04004329004329004"
      ]
     },
     "execution_count": 11,
     "metadata": {},
     "output_type": "execute_result"
    }
   ],
   "source": [
    "# The probability of randomly selecting at least five correct cups.\n",
    "(36 + 1) / 924"
   ]
  },
  {
   "cell_type": "markdown",
   "metadata": {},
   "source": [
    "Question: Would you accept two errors? Explain.\n",
    "\n",
    "Answer:  I would not accept two errors, as the likelihood of randomly guessing 4 out of 6 correctly is too high. We can calculate the probability by dividing 225 by 924."
   ]
  },
  {
   "cell_type": "code",
   "execution_count": 12,
   "metadata": {},
   "outputs": [
    {
     "data": {
      "text/plain": [
       "0.2435064935064935"
      ]
     },
     "execution_count": 12,
     "metadata": {},
     "output_type": "execute_result"
    }
   ],
   "source": [
    "# The probability of randomly selecting four correct cups.\n",
    "\n",
    "225 / 924"
   ]
  },
  {
   "cell_type": "markdown",
   "metadata": {},
   "source": [
    "The probability of randomly selecting four correct cups is 0.24 (24 %), which is too high a figure. It indicates that it would be reasonably likely that someone could just randomly guess 4 cups from 6 correctly without any special ability.  "
   ]
  },
  {
   "cell_type": "markdown",
   "metadata": {},
   "source": [
    "***"
   ]
  },
  {
   "cell_type": "markdown",
   "metadata": {},
   "source": [
    "### Task 2: numpy's Normal Distribution\n",
    "\n",
    "***Task Description***:In this task you will assess whether numpy.random.normal() properly generates normal values. To begin, generate a sample of one hundred thousand values using the function with mean 10.0 and standard deviation 3.0.\n",
    "\n",
    "Use the scipy.stats.shapiro() function to test whether your sample came from a normal distribution. Explain the results and output.\n",
    "\n",
    "Plot a histogram of your values and plot the corresponding normal distribution probability density function on top of it.\n",
    "\n",
    "***\n"
   ]
  },
  {
   "cell_type": "markdown",
   "metadata": {},
   "source": [
    "***Task Solution***: In this exercise, I will use functions contained in the numpy and scipy packages to create a sample of 100,000 values and then carry out some investigations in order to explore some of the facets of the normal distribution."
   ]
  },
  {
   "cell_type": "code",
   "execution_count": 13,
   "metadata": {},
   "outputs": [],
   "source": [
    "# import matplotlib for plotting\n",
    "import matplotlib.pyplot as plt\n",
    "\n",
    "# import scipy.stats for statistics.\n",
    "import scipy.stats as stats\n",
    "\n",
    "from scipy.stats import norm\n",
    "\n",
    "# import statsmodels for statistical modelling\n",
    "import statsmodels as sm"
   ]
  },
  {
   "cell_type": "code",
   "execution_count": 14,
   "metadata": {},
   "outputs": [
    {
     "data": {
      "text/plain": [
       "array([ 9.10324345, 10.49186028,  8.38515196, ...,  9.80305414,\n",
       "        7.55271726,  5.03478586])"
      ]
     },
     "execution_count": 14,
     "metadata": {},
     "output_type": "execute_result"
    }
   ],
   "source": [
    "# Generate a random sample of size 100,000 with mean 10.0 and standard deviation of 3.0 \n",
    "# https://numpy.org/doc/stable/reference/random/generated/numpy.random.normal.html#numpy-random-normal\n",
    "\n",
    "data = np.random.normal(loc=10.0, scale=3.0, size=100000)\n",
    "\n",
    "# Show\n",
    "data"
   ]
  },
  {
   "cell_type": "markdown",
   "metadata": {},
   "source": [
    "The Shapiro Wilk Test can be used to determine whether a given set of values is normally distributed or not. The null hypothesis of Shapiro’s test is that the data is distributed normally.  The scipy.stats library has a function (.shapiro) which allows us to carry out this test.*\n",
    "\n",
    "*https://www.geeksforgeeks.org/how-to-perform-a-shapiro-wilk-test-in-python/"
   ]
  },
  {
   "cell_type": "code",
   "execution_count": 15,
   "metadata": {},
   "outputs": [
    {
     "name": "stderr",
     "output_type": "stream",
     "text": [
      "c:\\Users\\cusac\\anaconda33\\lib\\site-packages\\scipy\\stats\\_morestats.py:1882: UserWarning: p-value may not be accurate for N > 5000.\n",
      "  warnings.warn(\"p-value may not be accurate for N > 5000.\")\n"
     ]
    },
    {
     "data": {
      "text/plain": [
       "ShapiroResult(statistic=0.9999809265136719, pvalue=0.9352238178253174)"
      ]
     },
     "execution_count": 15,
     "metadata": {},
     "output_type": "execute_result"
    }
   ],
   "source": [
    "# Run Shapiro-Wilk test\n",
    "# https://docs.scipy.org/doc/scipy/reference/generated/scipy.stats.shapiro.html#shapiro\n",
    "\n",
    "stats.shapiro(data)"
   ]
  },
  {
   "cell_type": "markdown",
   "metadata": {},
   "source": [
    "The result of the above Shapiro Wilks test, with a high p-value of 0.96, tells us that the data is most likely normally distributed, and consequently we do not reject the null hypothesis in this instance."
   ]
  },
  {
   "cell_type": "code",
   "execution_count": 16,
   "metadata": {},
   "outputs": [
    {
     "data": {
      "text/plain": [
       "<function matplotlib.pyplot.show(close=None, block=None)>"
      ]
     },
     "execution_count": 16,
     "metadata": {},
     "output_type": "execute_result"
    },
    {
     "data": {
      "image/png": "[encoded data removed]",
      "text/plain": [
       "<Figure size 640x480 with 1 Axes>"
      ]
     },
     "metadata": {},
     "output_type": "display_data"
    }
   ],
   "source": [
    "# Visualise data with histogram, using numpy's linspace to return evenly spaced numbers over a specified interval\n",
    "# https://numpy.org/doc/stable/reference/generated/numpy.linspace.html\n",
    "\n",
    "plt.hist(data, edgecolor='black', density=True, bins=np.linspace(-1, 22, 22))\n",
    "plt.show\n"
   ]
  },
  {
   "cell_type": "markdown",
   "metadata": {},
   "source": [
    "The resulting histogram, centered on the mean of 10, has the characeristic bell-shaped curve of the Normal distribution.\n",
    "***"
   ]
  },
  {
   "cell_type": "markdown",
   "metadata": {},
   "source": [
    "### Probability Density Function\n",
    "\n",
    "Probability density function (or PDF) describes the probability of a random variable falling within a particular range of values. The probability density function is a mathematical formula which can be expressed as :"
   ]
  },
  {
   "cell_type": "markdown",
   "metadata": {},
   "source": [
    "$ f(x) = \\frac{1}{ \\sqrt{2 \\pi \\sigma^2}} e^{-\\frac{(x - \\mu)^2}{2 \\sigma^2}} $\n",
    "                                              "
   ]
  },
  {
   "cell_type": "markdown",
   "metadata": {},
   "source": [
    "In the next cell, I will plot the normal distribution probability density function on top of the above histogram."
   ]
  },
  {
   "cell_type": "code",
   "execution_count": 18,
   "metadata": {},
   "outputs": [
    {
     "data": {
      "text/plain": [
       "[<matplotlib.lines.Line2D at 0x24a150f4700>]"
      ]
     },
     "execution_count": 18,
     "metadata": {},
     "output_type": "execute_result"
    },
    {
     "data": {
      "image/png": "[encoded data removed]",
      "text/plain": [
       "<Figure size 640x480 with 1 Axes>"
      ]
     },
     "metadata": {},
     "output_type": "display_data"
    }
   ],
   "source": [
    "# create histogram, incorporating probability density function\n",
    "\n",
    "# Standard deviation\n",
    "std = 3\n",
    "\n",
    "# Mean\n",
    "mean = 10\n",
    "\n",
    "# Bins\n",
    "bins=np.linspace(-1, 22, 22)\n",
    "\n",
    "plt.hist(data, edgecolor='black', density=True, bins=np.linspace(-1, 22, 22))\n",
    "plt.plot(bins, 1/(std * np.sqrt(2 * np.pi)) *   \n",
    "               np.exp( - (bins - mean)**2 / (2 * std**2) ),  # PDF\n",
    "         linewidth=2, color='r')"
   ]
  },
  {
   "cell_type": "markdown",
   "metadata": {},
   "source": [
    "***"
   ]
  }
 ],
 "metadata": {
  "kernelspec": {
   "display_name": "base",
   "language": "python",
   "name": "python3"
  },
  "language_info": {
   "codemirror_mode": {
    "name": "ipython",
    "version": 3
   },
   "file_extension": ".py",
   "mimetype": "text/x-python",
   "name": "python",
   "nbconvert_exporter": "python",
   "pygments_lexer": "ipython3",
   "version": "3.9.18"
  }
 },
 "nbformat": 4,
 "nbformat_minor": 2
}
