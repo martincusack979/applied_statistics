{
 "cells": [
  {
   "cell_type": "markdown",
   "metadata": {},
   "source": [
    "# Project\n",
    "\n",
    "**Applied Statistics**\n",
    "\n",
    "Martin Cusack\n",
    "\n",
    "Student I.D: G00239124\n",
    "\n",
    "***"
   ]
  },
  {
   "cell_type": "markdown",
   "metadata": {},
   "source": [
    "## Introduction \n",
    "\n",
    "This Jupyter notebook contains all the work undertaken in completing the project for the Applied Statistics module."
   ]
  },
  {
   "cell_type": "markdown",
   "metadata": {},
   "source": [
    "### References\n",
    "\n",
    "[1]  \n",
    "\n",
    "[2]  \n",
    "\n",
    "[3] \n",
    "\n",
    "[4] \n",
    "\n",
    "[5] \n",
    "\n",
    "[6] \n",
    "\n",
    "[7]  \n",
    "\n",
    "[8] \n",
    "\n",
    "[9] \n",
    "\n",
    "[10] "
   ]
  },
  {
   "cell_type": "markdown",
   "metadata": {},
   "source": [
    "***\n",
    "## End\n",
    "***"
   ]
  }
 ],
 "metadata": {
  "language_info": {
   "name": "python"
  }
 },
 "nbformat": 4,
 "nbformat_minor": 2
}
