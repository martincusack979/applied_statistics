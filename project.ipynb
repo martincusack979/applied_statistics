{
 "cells": [
  {
   "cell_type": "markdown",
   "metadata": {},
   "source": [
    "# Project\n",
    "\n",
    "**Applied Statistics**\n",
    "\n",
    "Martin Cusack\n",
    "\n",
    "Student I.D: G00239124\n",
    "\n",
    "***"
   ]
  },
  {
   "cell_type": "markdown",
   "metadata": {},
   "source": [
    "## Introduction \n",
    "\n",
    "This Jupyter notebook contains all the work undertaken in completing the project for the Applied Statistics module.\n",
    "\n",
    "The aim of this project is to carry out statistical investigations on the Plant Growth data set, which contains results from an experiment on plant growth comparing yields obtained under a control and two different treatment conditions. **[1]**\n",
    "\n",
    "**[1]** [PlantGrowthR](https://vincentarelbundock.github.io/Rdatasets/doc/datasets/PlantGrowth.html)\n",
    "\n",
    "Firstly, I will import all the packages required in order to complete the project."
   ]
  },
  {
   "cell_type": "code",
   "execution_count": 1,
   "metadata": {},
   "outputs": [],
   "source": [
    "# pandas\n",
    "import pandas as pd\n",
    "\n",
    "# numpy \n",
    "import numpy as np  \n",
    "\n",
    "# scipy.stats for statistics.\n",
    "import scipy.stats as ss\n",
    "from scipy.stats import norm\n",
    "\n",
    "# statsmodels for statistical modelling\n",
    "import statsmodels as sm\n",
    "\n",
    "# Plots.\n",
    "import matplotlib.pyplot as plt\n",
    "\n",
    "# statistical plots\n",
    "import seaborn as sns\n",
    "\n",
    "# ANOVA\n",
    "from scipy.stats import f_oneway\n"
   ]
  },
  {
   "cell_type": "markdown",
   "metadata": {},
   "source": [
    "Next, I will import the PlantGrowth data set (which is stored in a CSV file) and display it in a pandas dataframe so that investigations can be carried out on the data."
   ]
  },
  {
   "cell_type": "code",
   "execution_count": 2,
   "metadata": {},
   "outputs": [],
   "source": [
    "# import data set\n",
    "df = pd.read_csv(\"Data\\PlantGrowth.csv\")"
   ]
  },
  {
   "cell_type": "code",
   "execution_count": 3,
   "metadata": {},
   "outputs": [
    {
     "data": {
      "text/plain": [
       "(30, 3)"
      ]
     },
     "execution_count": 3,
     "metadata": {},
     "output_type": "execute_result"
    }
   ],
   "source": [
    "# summary statistics - display number of rows and columns\n",
    "df.shape"
   ]
  },
  {
   "cell_type": "code",
   "execution_count": 4,
   "metadata": {},
   "outputs": [
    {
     "data": {
      "text/html": [
       "<div>\n",
       "<style scoped>\n",
       "    .dataframe tbody tr th:only-of-type {\n",
       "        vertical-align: middle;\n",
       "    }\n",
       "\n",
       "    .dataframe tbody tr th {\n",
       "        vertical-align: top;\n",
       "    }\n",
       "\n",
       "    .dataframe thead th {\n",
       "        text-align: right;\n",
       "    }\n",
       "</style>\n",
       "<table border=\"1\" class=\"dataframe\">\n",
       "  <thead>\n",
       "    <tr style=\"text-align: right;\">\n",
       "      <th></th>\n",
       "      <th>rownames</th>\n",
       "      <th>weight</th>\n",
       "    </tr>\n",
       "  </thead>\n",
       "  <tbody>\n",
       "    <tr>\n",
       "      <th>count</th>\n",
       "      <td>30.000000</td>\n",
       "      <td>30.000000</td>\n",
       "    </tr>\n",
       "    <tr>\n",
       "      <th>mean</th>\n",
       "      <td>15.500000</td>\n",
       "      <td>5.073000</td>\n",
       "    </tr>\n",
       "    <tr>\n",
       "      <th>std</th>\n",
       "      <td>8.803408</td>\n",
       "      <td>0.701192</td>\n",
       "    </tr>\n",
       "    <tr>\n",
       "      <th>min</th>\n",
       "      <td>1.000000</td>\n",
       "      <td>3.590000</td>\n",
       "    </tr>\n",
       "    <tr>\n",
       "      <th>25%</th>\n",
       "      <td>8.250000</td>\n",
       "      <td>4.550000</td>\n",
       "    </tr>\n",
       "    <tr>\n",
       "      <th>50%</th>\n",
       "      <td>15.500000</td>\n",
       "      <td>5.155000</td>\n",
       "    </tr>\n",
       "    <tr>\n",
       "      <th>75%</th>\n",
       "      <td>22.750000</td>\n",
       "      <td>5.530000</td>\n",
       "    </tr>\n",
       "    <tr>\n",
       "      <th>max</th>\n",
       "      <td>30.000000</td>\n",
       "      <td>6.310000</td>\n",
       "    </tr>\n",
       "  </tbody>\n",
       "</table>\n",
       "</div>"
      ],
      "text/plain": [
       "        rownames     weight\n",
       "count  30.000000  30.000000\n",
       "mean   15.500000   5.073000\n",
       "std     8.803408   0.701192\n",
       "min     1.000000   3.590000\n",
       "25%     8.250000   4.550000\n",
       "50%    15.500000   5.155000\n",
       "75%    22.750000   5.530000\n",
       "max    30.000000   6.310000"
      ]
     },
     "execution_count": 4,
     "metadata": {},
     "output_type": "execute_result"
    }
   ],
   "source": [
    "# summary statistics - describe the data set\n",
    "df.describe()"
   ]
  },
  {
   "cell_type": "code",
   "execution_count": 5,
   "metadata": {},
   "outputs": [
    {
     "data": {
      "text/html": [
       "<div>\n",
       "<style scoped>\n",
       "    .dataframe tbody tr th:only-of-type {\n",
       "        vertical-align: middle;\n",
       "    }\n",
       "\n",
       "    .dataframe tbody tr th {\n",
       "        vertical-align: top;\n",
       "    }\n",
       "\n",
       "    .dataframe thead th {\n",
       "        text-align: right;\n",
       "    }\n",
       "</style>\n",
       "<table border=\"1\" class=\"dataframe\">\n",
       "  <thead>\n",
       "    <tr style=\"text-align: right;\">\n",
       "      <th></th>\n",
       "      <th>rownames</th>\n",
       "      <th>weight</th>\n",
       "      <th>group</th>\n",
       "    </tr>\n",
       "  </thead>\n",
       "  <tbody>\n",
       "    <tr>\n",
       "      <th>0</th>\n",
       "      <td>1</td>\n",
       "      <td>4.17</td>\n",
       "      <td>ctrl</td>\n",
       "    </tr>\n",
       "    <tr>\n",
       "      <th>1</th>\n",
       "      <td>2</td>\n",
       "      <td>5.58</td>\n",
       "      <td>ctrl</td>\n",
       "    </tr>\n",
       "    <tr>\n",
       "      <th>2</th>\n",
       "      <td>3</td>\n",
       "      <td>5.18</td>\n",
       "      <td>ctrl</td>\n",
       "    </tr>\n",
       "    <tr>\n",
       "      <th>3</th>\n",
       "      <td>4</td>\n",
       "      <td>6.11</td>\n",
       "      <td>ctrl</td>\n",
       "    </tr>\n",
       "    <tr>\n",
       "      <th>4</th>\n",
       "      <td>5</td>\n",
       "      <td>4.50</td>\n",
       "      <td>ctrl</td>\n",
       "    </tr>\n",
       "    <tr>\n",
       "      <th>5</th>\n",
       "      <td>6</td>\n",
       "      <td>4.61</td>\n",
       "      <td>ctrl</td>\n",
       "    </tr>\n",
       "    <tr>\n",
       "      <th>6</th>\n",
       "      <td>7</td>\n",
       "      <td>5.17</td>\n",
       "      <td>ctrl</td>\n",
       "    </tr>\n",
       "    <tr>\n",
       "      <th>7</th>\n",
       "      <td>8</td>\n",
       "      <td>4.53</td>\n",
       "      <td>ctrl</td>\n",
       "    </tr>\n",
       "    <tr>\n",
       "      <th>8</th>\n",
       "      <td>9</td>\n",
       "      <td>5.33</td>\n",
       "      <td>ctrl</td>\n",
       "    </tr>\n",
       "    <tr>\n",
       "      <th>9</th>\n",
       "      <td>10</td>\n",
       "      <td>5.14</td>\n",
       "      <td>ctrl</td>\n",
       "    </tr>\n",
       "    <tr>\n",
       "      <th>10</th>\n",
       "      <td>11</td>\n",
       "      <td>4.81</td>\n",
       "      <td>trt1</td>\n",
       "    </tr>\n",
       "    <tr>\n",
       "      <th>11</th>\n",
       "      <td>12</td>\n",
       "      <td>4.17</td>\n",
       "      <td>trt1</td>\n",
       "    </tr>\n",
       "    <tr>\n",
       "      <th>12</th>\n",
       "      <td>13</td>\n",
       "      <td>4.41</td>\n",
       "      <td>trt1</td>\n",
       "    </tr>\n",
       "    <tr>\n",
       "      <th>13</th>\n",
       "      <td>14</td>\n",
       "      <td>3.59</td>\n",
       "      <td>trt1</td>\n",
       "    </tr>\n",
       "    <tr>\n",
       "      <th>14</th>\n",
       "      <td>15</td>\n",
       "      <td>5.87</td>\n",
       "      <td>trt1</td>\n",
       "    </tr>\n",
       "    <tr>\n",
       "      <th>15</th>\n",
       "      <td>16</td>\n",
       "      <td>3.83</td>\n",
       "      <td>trt1</td>\n",
       "    </tr>\n",
       "    <tr>\n",
       "      <th>16</th>\n",
       "      <td>17</td>\n",
       "      <td>6.03</td>\n",
       "      <td>trt1</td>\n",
       "    </tr>\n",
       "    <tr>\n",
       "      <th>17</th>\n",
       "      <td>18</td>\n",
       "      <td>4.89</td>\n",
       "      <td>trt1</td>\n",
       "    </tr>\n",
       "    <tr>\n",
       "      <th>18</th>\n",
       "      <td>19</td>\n",
       "      <td>4.32</td>\n",
       "      <td>trt1</td>\n",
       "    </tr>\n",
       "    <tr>\n",
       "      <th>19</th>\n",
       "      <td>20</td>\n",
       "      <td>4.69</td>\n",
       "      <td>trt1</td>\n",
       "    </tr>\n",
       "    <tr>\n",
       "      <th>20</th>\n",
       "      <td>21</td>\n",
       "      <td>6.31</td>\n",
       "      <td>trt2</td>\n",
       "    </tr>\n",
       "    <tr>\n",
       "      <th>21</th>\n",
       "      <td>22</td>\n",
       "      <td>5.12</td>\n",
       "      <td>trt2</td>\n",
       "    </tr>\n",
       "    <tr>\n",
       "      <th>22</th>\n",
       "      <td>23</td>\n",
       "      <td>5.54</td>\n",
       "      <td>trt2</td>\n",
       "    </tr>\n",
       "    <tr>\n",
       "      <th>23</th>\n",
       "      <td>24</td>\n",
       "      <td>5.50</td>\n",
       "      <td>trt2</td>\n",
       "    </tr>\n",
       "    <tr>\n",
       "      <th>24</th>\n",
       "      <td>25</td>\n",
       "      <td>5.37</td>\n",
       "      <td>trt2</td>\n",
       "    </tr>\n",
       "    <tr>\n",
       "      <th>25</th>\n",
       "      <td>26</td>\n",
       "      <td>5.29</td>\n",
       "      <td>trt2</td>\n",
       "    </tr>\n",
       "    <tr>\n",
       "      <th>26</th>\n",
       "      <td>27</td>\n",
       "      <td>4.92</td>\n",
       "      <td>trt2</td>\n",
       "    </tr>\n",
       "    <tr>\n",
       "      <th>27</th>\n",
       "      <td>28</td>\n",
       "      <td>6.15</td>\n",
       "      <td>trt2</td>\n",
       "    </tr>\n",
       "    <tr>\n",
       "      <th>28</th>\n",
       "      <td>29</td>\n",
       "      <td>5.80</td>\n",
       "      <td>trt2</td>\n",
       "    </tr>\n",
       "    <tr>\n",
       "      <th>29</th>\n",
       "      <td>30</td>\n",
       "      <td>5.26</td>\n",
       "      <td>trt2</td>\n",
       "    </tr>\n",
       "  </tbody>\n",
       "</table>\n",
       "</div>"
      ],
      "text/plain": [
       "    rownames  weight group\n",
       "0          1    4.17  ctrl\n",
       "1          2    5.58  ctrl\n",
       "2          3    5.18  ctrl\n",
       "3          4    6.11  ctrl\n",
       "4          5    4.50  ctrl\n",
       "5          6    4.61  ctrl\n",
       "6          7    5.17  ctrl\n",
       "7          8    4.53  ctrl\n",
       "8          9    5.33  ctrl\n",
       "9         10    5.14  ctrl\n",
       "10        11    4.81  trt1\n",
       "11        12    4.17  trt1\n",
       "12        13    4.41  trt1\n",
       "13        14    3.59  trt1\n",
       "14        15    5.87  trt1\n",
       "15        16    3.83  trt1\n",
       "16        17    6.03  trt1\n",
       "17        18    4.89  trt1\n",
       "18        19    4.32  trt1\n",
       "19        20    4.69  trt1\n",
       "20        21    6.31  trt2\n",
       "21        22    5.12  trt2\n",
       "22        23    5.54  trt2\n",
       "23        24    5.50  trt2\n",
       "24        25    5.37  trt2\n",
       "25        26    5.29  trt2\n",
       "26        27    4.92  trt2\n",
       "27        28    6.15  trt2\n",
       "28        29    5.80  trt2\n",
       "29        30    5.26  trt2"
      ]
     },
     "execution_count": 5,
     "metadata": {},
     "output_type": "execute_result"
    }
   ],
   "source": [
    "# show all rows\n",
    "df"
   ]
  },
  {
   "cell_type": "markdown",
   "metadata": {},
   "source": [
    "As we can see from the above, the PlantGrowth R dataset contains 30 observations and 2 variables, **weight** and **group**. The weight column contains values representing the weight of each plant in grams. The group column contains three separate levels representing the type of treatment applied to each plant; Control (ctrl), Treatment 1 (trt1) and Treatment 2 (trt2). There are ten samples in each level.  \n",
    "\n",
    "***"
   ]
  },
  {
   "cell_type": "markdown",
   "metadata": {},
   "source": [
    "## Visualising the data\n",
    "\n",
    "We can use the plotting functions within the seaborn package to gain a better visual understanding of the data. Below, I use the boxplot function **[2]** to illustrate the distribution or spread of weight across the three groups. Firstly, however, I will remove the **rownames** column, as this contains irrelevant data.\n",
    "\n",
    "**[2]** [Boxplot](https://seaborn.pydata.org/generated/seaborn.boxplot.html)"
   ]
  },
  {
   "cell_type": "code",
   "execution_count": 6,
   "metadata": {},
   "outputs": [],
   "source": [
    "# drop rownames\n",
    "df2 = df.drop(columns=['rownames'])"
   ]
  },
  {
   "cell_type": "code",
   "execution_count": 7,
   "metadata": {},
   "outputs": [
    {
     "data": {
      "text/plain": [
       "Text(0.5, 1.0, 'Distribution of Plant Weight by Group')"
      ]
     },
     "execution_count": 7,
     "metadata": {},
     "output_type": "execute_result"
    },
    {
     "data": {
      "image/png": "[encoded data removed]",
      "text/plain": [
       "<Figure size 640x480 with 1 Axes>"
      ]
     },
     "metadata": {},
     "output_type": "display_data"
    }
   ],
   "source": [
    "# seaborn boxplot\n",
    "sns.boxplot(data=df2, x='group', y='weight', palette='deep')\n",
    "plt.title('Distribution of Plant Weight by Group')"
   ]
  },
  {
   "cell_type": "markdown",
   "metadata": {},
   "source": [
    "As we can see from the above boxplot, the median measurements are highest in the treatment 2 group and lowest in the treatment 1 group. The diamond-shaped markers above the treatment 1 group represent the two outlier measurements of 6.03 and 5.87.\n",
    "\n",
    "***"
   ]
  },
  {
   "cell_type": "markdown",
   "metadata": {},
   "source": [
    "## $t$-test\n",
    "\n",
    "A $t$-test is a statistical test which is used to compare the means of two separate populations. It is often used when investigating to see whether small sample sizes are representative of a larger population.  The null hypothesis of the $t$ test is that \"there is no difference between the mean of a sample and the population mean, and no difference between the means of two samples.\" **[3]**\n",
    "\n",
    "\n",
    "There are a number of assumptions to consider when working with different types of statistical test.  \n",
    "The $t$-test assumes that:\n",
    "* The data are continuous.\n",
    "* The sample data have been randomly sampled from a population.\n",
    "* There is homogeneity of variance (i.e., the variability of the data in each group is similar).\n",
    "* The distribution is approximately normal. **[4]**\n",
    "\n",
    "In the below cell, I will use the scipy stats package to perform a t-test in order to determine whether there is a significant difference between the two treatment groups **trt1** and **trt2**. To do this, I will firstly extract from the pandas dataframe all the trt1 and trt2 values and store them as trt1 and trt2.\n",
    "\n",
    "\n",
    "**[3]** [the $t$-test](bmj.com/about-bmj/resources-readers/publications/statistics-square-one/7-t-tests)\n",
    "\n",
    "**[4]** [t-Test assumptions](jmp.com/en_ch/statistics-knowledge-portal/t-test.html)\n",
    "\n",
    "***\n"
   ]
  },
  {
   "cell_type": "code",
   "execution_count": 8,
   "metadata": {},
   "outputs": [
    {
     "data": {
      "text/plain": [
       "10    4.81\n",
       "11    4.17\n",
       "12    4.41\n",
       "13    3.59\n",
       "14    5.87\n",
       "15    3.83\n",
       "16    6.03\n",
       "17    4.89\n",
       "18    4.32\n",
       "19    4.69\n",
       "Name: weight, dtype: float64"
      ]
     },
     "execution_count": 8,
     "metadata": {},
     "output_type": "execute_result"
    }
   ],
   "source": [
    "# Extract all trt1 values and store as trt1\n",
    "\n",
    "trt1 = df2.loc[df2['group'] == 'trt1', 'weight']\n",
    "\n",
    "# Show\n",
    "trt1"
   ]
  },
  {
   "cell_type": "code",
   "execution_count": 9,
   "metadata": {},
   "outputs": [
    {
     "name": "stdout",
     "output_type": "stream",
     "text": [
      "4.661\n",
      "0.7529468772762128\n"
     ]
    }
   ],
   "source": [
    "# calculate mean and standard deviation of trt1 for comparison purposes\n",
    "mean_trt1 = np.mean(trt1)\n",
    "std_trt1 = np.std(trt1)\n",
    "print(mean_trt1)\n",
    "print(std_trt1)\n",
    "\n"
   ]
  },
  {
   "cell_type": "code",
   "execution_count": 10,
   "metadata": {},
   "outputs": [
    {
     "data": {
      "text/plain": [
       "20    6.31\n",
       "21    5.12\n",
       "22    5.54\n",
       "23    5.50\n",
       "24    5.37\n",
       "25    5.29\n",
       "26    4.92\n",
       "27    6.15\n",
       "28    5.80\n",
       "29    5.26\n",
       "Name: weight, dtype: float64"
      ]
     },
     "execution_count": 10,
     "metadata": {},
     "output_type": "execute_result"
    }
   ],
   "source": [
    "# Extract all trt2 values and store as trt2\n",
    "trt2 = df2.loc[df2['group'] == 'trt2', 'weight']\n",
    "\n",
    "# Show\n",
    "trt2"
   ]
  },
  {
   "cell_type": "code",
   "execution_count": 11,
   "metadata": {},
   "outputs": [
    {
     "name": "stdout",
     "output_type": "stream",
     "text": [
      "5.526\n",
      "0.4198618820517051\n"
     ]
    }
   ],
   "source": [
    "# calculate mean and standard deviation ot trt2 for comparison purposes\n",
    "mean_trt2 = np.mean(trt2)\n",
    "std_trt2 = np.std(trt2)\n",
    "print(mean_trt2)\n",
    "print(std_trt2)"
   ]
  },
  {
   "cell_type": "markdown",
   "metadata": {},
   "source": [
    "I can now run a t-test on the **trt1** and **trt2** samples to determine whether there is a significant difference between the two treatment groups."
   ]
  },
  {
   "cell_type": "code",
   "execution_count": 13,
   "metadata": {},
   "outputs": [
    {
     "data": {
      "text/plain": [
       "TtestResult(statistic=-3.0100985421243616, pvalue=0.0075184261182198574, df=18.0)"
      ]
     },
     "execution_count": 13,
     "metadata": {},
     "output_type": "execute_result"
    }
   ],
   "source": [
    "# run t test\n",
    "ss.ttest_ind(trt1, trt2)"
   ]
  },
  {
   "cell_type": "markdown",
   "metadata": {},
   "source": [
    "The p-value (or probability value) of a t-test denotes the likelihood of \"obtaining test results at least as extreme as the result actually observed, under the assumption that the null hypothesis is correct\". **[5]** \n",
    "\n",
    "The null hypothesis in this case assumes that the means of the two groups are the same.  The above t-test produces a very low p-value result of 0.0075 (the threshold being 0.05) leading me to conclude that I should reject the null hypothesis in this instance. This is not a surprising result, as the means of the two groups (trt1 with a mean of 4.6 and trt2 with a mean of 5.5) are significantly different. This is also borne out by the boxplot visualisation from earlier which illustrates the differences in values between the two treatment groups, with trt2 having a significantly higher median value than trt1.\n",
    "\n",
    "**[5]** [P value](en.wikipedia.org/wiki/P-value)\n",
    "\n",
    "***"
   ]
  },
  {
   "cell_type": "markdown",
   "metadata": {},
   "source": [
    "## ANOVA\n",
    "\n",
    "ANOVA (or analysis of variance) is a statistical tool which tests \"whether statistically significant differences exist between more than two samples\". **[6]**  \n",
    "\n",
    "According to Laerd Statistics: \"Every time you conduct a $t$ test there is a chance that you will make a Type I error. This error is usually 5%.\" **[7]** \n",
    "\n",
    "It would be possible to conduct multiple $t$ tests on more than two samples, however your chances of making a Type 1 error (5%) would increase with every test by another 5% (test 2 would be 10%, test 3 would be 15%, et cetera). This is an unacceptable level of risk. Therefore, it is more prudent to run an ANOVA test when dealing with more than two samples or populations, since ANOVA exerts more control over the error rate and limits the probability of a Type 2 error.\n",
    "\n",
    "When analysing the Plant Growth dataset, I will use one-way ANOVA. Testing with one-way ANOVA is particularly appropriate when dealing with groups containing only one categorical variable (e.g. the treatment group in the Plant Growth data set). **[8]**\n",
    "***\n",
    "\n",
    "#### Assumptions\n",
    "\n",
    "\n",
    "Similar to the $t$ test, there are a number of assumptions to take into account when performing an ANOVA test.  These include:\n",
    "\n",
    "* The data in each group should be independent of the data in other groups.\n",
    "* Homogeneity of variances. (i.e. that the population variances in each group are equal.)\n",
    "* The dependent variable is normally distributed in each group.\n",
    "\n",
    "\n",
    "\n",
    "**[6]** [ANOVA](datatab.net/tutorial/anova)\n",
    "\n",
    "**[7]** and **[9]** [One-way ANOVA](statistics.laerd.com/statistical-guides/one-way-anova-statistical-guide-2.php)\n",
    "\n",
    "**[8]** [One-way ANOVA - When and How to Use it](www.scribbr.com/statistics/one-way-anova/)\n",
    "\n",
    "***\n"
   ]
  },
  {
   "cell_type": "markdown",
   "metadata": {},
   "source": [
    "In the below cells, I will run an ANOVA test to determine whether there is a significant difference between the three treatment groups ctrl, trt1, and trt2."
   ]
  },
  {
   "cell_type": "code",
   "execution_count": 15,
   "metadata": {},
   "outputs": [
    {
     "data": {
      "text/plain": [
       "0    4.17\n",
       "1    5.58\n",
       "2    5.18\n",
       "3    6.11\n",
       "4    4.50\n",
       "5    4.61\n",
       "6    5.17\n",
       "7    4.53\n",
       "8    5.33\n",
       "9    5.14\n",
       "Name: weight, dtype: float64"
      ]
     },
     "execution_count": 15,
     "metadata": {},
     "output_type": "execute_result"
    }
   ],
   "source": [
    "# Extract all ctrl values and store as ctrl1\n",
    "ctrl = df2.loc[df2['group'] == 'ctrl', 'weight']\n",
    "\n",
    "# Show.\n",
    "ctrl"
   ]
  },
  {
   "cell_type": "code",
   "execution_count": 23,
   "metadata": {},
   "outputs": [
    {
     "name": "stdout",
     "output_type": "stream",
     "text": [
      "5.032\n",
      "0.5531690519181275\n"
     ]
    }
   ],
   "source": [
    "# calculate mean and standard deviation ot ctrl1 for comparison purposes\n",
    "mean_ctrl = np.mean(ctrl)\n",
    "std_ctrl = np.std(ctrl)\n",
    "print(mean_ctrl)\n",
    "print(std_ctrl)"
   ]
  },
  {
   "cell_type": "code",
   "execution_count": 16,
   "metadata": {},
   "outputs": [
    {
     "name": "stdout",
     "output_type": "stream",
     "text": [
      "F-statistic: 4.846087862380136\n",
      "P-value: 0.015909958325622895\n"
     ]
    }
   ],
   "source": [
    "# Test with one-way ANOVA\n",
    "f_stat, p_value = f_oneway(ctrl, trt1, trt2)\n",
    "\n",
    "print(f\"F-statistic: {f_stat}\")\n",
    "print(f\"P-value: {p_value}\")"
   ]
  },
  {
   "cell_type": "markdown",
   "metadata": {},
   "source": [
    "As can be seen from the results after running one-way ANOVA, the p-value is significantly lower than the significance level of 0.05. This suggests that the mean of at least one of the treatment groups is significantly different from the others. Let's check the means and standard deviations of the three treatment groups again."
   ]
  },
  {
   "cell_type": "code",
   "execution_count": 25,
   "metadata": {},
   "outputs": [
    {
     "name": "stdout",
     "output_type": "stream",
     "text": [
      "5.032\n",
      "4.661\n",
      "5.526\n"
     ]
    }
   ],
   "source": [
    "# means of the 3 treatment groups\n",
    "print(mean_ctrl)\n",
    "print(mean_trt1)\n",
    "print(mean_trt2)"
   ]
  },
  {
   "cell_type": "code",
   "execution_count": 26,
   "metadata": {},
   "outputs": [
    {
     "name": "stdout",
     "output_type": "stream",
     "text": [
      "0.5531690519181275\n",
      "0.7529468772762128\n",
      "0.4198618820517051\n"
     ]
    }
   ],
   "source": [
    "# standard deviations of the 3 treatment groups\n",
    "print(std_ctrl)\n",
    "print(std_trt1)\n",
    "print(std_trt2)"
   ]
  },
  {
   "cell_type": "markdown",
   "metadata": {},
   "source": [
    "As we can see, there are quite significant differences between the means and standard deviations of the three treatment groups. This accounts for the low p-value after running one-way ANOVA.  Since the null hypothesis states that there are no significant differences between the group means, we reject the null hypothesis in this instance.\n",
    "\n",
    "***"
   ]
  },
  {
   "cell_type": "markdown",
   "metadata": {},
   "source": [
    "### References\n",
    "***\n",
    "\n",
    "**[1]**  *Results from an Experiment on Plant Growth.*  Vincent Arel Bundock. **vincentarelbundock.github.io/Rdatasets/doc/datasets/PlantGrowth.html**\n",
    "\n",
    "**[2]**  *seaborn.boxplot.*  Michael Waskom. **seaborn.pydata.org/generated/seaborn.boxplot.html**\n",
    "\n",
    "**[3]** *the $t$-test.* The BMJ. **bmj.com/about-bmj/resources-readers/publications/statistics-square-one/7-t-tests**\n",
    "\n",
    "**[4]** *t test assumptions*. JMP. **www.jmp.com/en_ch/statistics-knowledge-portal/t-test.html**\n",
    "\n",
    "**[5]** *P-value.* Wikipedia.  **en.wikipedia.org/wiki/P-value**\n",
    "\n",
    "**[6]** *Analysis of Variance (ANOVA).* Datatab team.  **datatab.net/tutorial/anova**\n",
    "\n",
    "**[7]**  *One-way ANOVA.* Laerd Statistics. **statistics.laerd.com/statistical-guides/one-way-anova-statistical-guide-2.php**\n",
    "\n",
    "**[8]** *One-way ANOVA - When and How to use it.*  Rebecca Bevans. **scribbr.com/statistics/one-way-anova/**\n",
    "\n",
    "**[9]**  *One-way ANOVA.* Laerd Statistics. **statistics.laerd.com/statistical-guides/one-way-anova-statistical-guide-2.php**\n"
   ]
  },
  {
   "cell_type": "markdown",
   "metadata": {},
   "source": [
    "***\n",
    "## End\n",
    "***"
   ]
  }
 ],
 "metadata": {
  "kernelspec": {
   "display_name": "base",
   "language": "python",
   "name": "python3"
  },
  "language_info": {
   "codemirror_mode": {
    "name": "ipython",
    "version": 3
   },
   "file_extension": ".py",
   "mimetype": "text/x-python",
   "name": "python",
   "nbconvert_exporter": "python",
   "pygments_lexer": "ipython3",
   "version": "3.9.18"
  }
 },
 "nbformat": 4,
 "nbformat_minor": 2
}
