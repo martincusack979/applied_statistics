{
 "cells": [
  {
   "cell_type": "code",
   "execution_count": 21,
   "metadata": {},
   "outputs": [],
   "source": [
    "import numpy as np\n",
    "from scipy.stats import f_oneway\n",
    "\n",
    "def simulate_anova(alpha=0.05):\n",
    "    # Generate a random sample a.\n",
    "    sample_a = np.random.normal(loc=4.9, scale=0.1, size=100)\n",
    "    # Generate a random sample b.\n",
    "    sample_b = np.random.normal(loc=5.0, scale=0.1, size=100)\n",
    "    # Generate a random sample c\n",
    "    sample_c = np.random.normal(loc=5.1, scale=0.1, size=100)\n",
    "\n",
    "    # Perform one-way ANOVA\n",
    "    f_stat, p_value = f_oneway(sample_a, sample_b, sample_c)\n",
    "\n",
    "    \n",
    "    # Decide whether to reject the null hypothesis.\n",
    "    if p_value > alpha:\n",
    "        return True\n",
    "    else:\n",
    "        return False"
   ]
  },
  {
   "cell_type": "code",
   "execution_count": 20,
   "metadata": {},
   "outputs": [
    {
     "data": {
      "text/plain": [
       "0"
      ]
     },
     "execution_count": 20,
     "metadata": {},
     "output_type": "execute_result"
    }
   ],
   "source": [
    "no_type_ii = 0\n",
    "\n",
    "# Run several simulations.\n",
    "for _ in range(10000):\n",
    "    # Check if the null hypothesis is rejected.\n",
    "    if simulate_anova():\n",
    "        # Increment number of type 2 errors by 1\n",
    "        no_type_ii += 1\n",
    "\n",
    "# Show number of type 2 errors.\n",
    "no_type_ii"
   ]
  },
  {
   "cell_type": "code",
   "execution_count": 22,
   "metadata": {},
   "outputs": [
    {
     "name": "stdout",
     "output_type": "stream",
     "text": [
      "Number of Type II errors: 0\n"
     ]
    }
   ],
   "source": [
    "# Initialize the Type II error counter\n",
    "no_type_ii = 0\n",
    "\n",
    "# Parameters for the samples\n",
    "n_samples = 100\n",
    "std_dev = 0.1\n",
    "means = [4.9, 5.0, 5.1]\n",
    "alpha = 0.05  # Significance level\n",
    "\n",
    "# Perform the simulation\n",
    "for _ in range(10000):\n",
    "    # Generate three samples\n",
    "    sample1 = np.random.normal(loc=means[0], scale=std_dev, size=n_samples)\n",
    "    sample2 = np.random.normal(loc=means[1], scale=std_dev, size=n_samples)\n",
    "    sample3 = np.random.normal(loc=means[2], scale=std_dev, size=n_samples)\n",
    "\n",
    "    # Perform one-way ANOVA\n",
    "    f_stat, p_value = f_oneway(sample1, sample2, sample3)\n",
    "\n",
    "    # Check if a Type II error occurred\n",
    "    if p_value > alpha:  # Fail to reject the null hypothesis\n",
    "        no_type_ii += 1\n",
    "\n",
    "# Display the results\n",
    "print(f\"Number of Type II errors: {no_type_ii}\")"
   ]
  }
 ],
 "metadata": {
  "kernelspec": {
   "display_name": "base",
   "language": "python",
   "name": "python3"
  },
  "language_info": {
   "codemirror_mode": {
    "name": "ipython",
    "version": 3
   },
   "file_extension": ".py",
   "mimetype": "text/x-python",
   "name": "python",
   "nbconvert_exporter": "python",
   "pygments_lexer": "ipython3",
   "version": "3.9.18"
  }
 },
 "nbformat": 4,
 "nbformat_minor": 2
}
